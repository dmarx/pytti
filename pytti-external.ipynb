{
 "cells": [
  {
   "cell_type": "code",
   "execution_count": 1,
   "id": "97de6421-3b36-4ef0-8ec4-182f2f215507",
   "metadata": {
    "execution": {
     "iopub.execute_input": "2021-11-27T17:39:16.670258Z",
     "iopub.status.busy": "2021-11-27T17:39:16.670258Z",
     "iopub.status.idle": "2021-11-27T17:39:16.697749Z",
     "shell.execute_reply": "2021-11-27T17:39:16.697749Z",
     "shell.execute_reply.started": "2021-11-27T17:39:16.670258Z"
    },
    "tags": []
   },
   "outputs": [],
   "source": [
    "# missing requirements:\n",
    "# !pip install PyGLM\n",
    "#!pip install matplotlib-label-lines\n",
    "# AdaBins\n",
    "# labelLines seems like a silly, unnecessary dependency. But whatever.\n",
    "#No module named 'CLIP'\n",
    "#prob need taming transformers too?\n",
    "# model git clone operations after: https://colab.research.google.com/drive/1iLdYrjtEYLDs_KpLbZOUEVlZpEgY3E8b#scrollTo=wSfISAhyPmyp\n",
    "#! git clone https://github.com/openai/CLIP.git # uh... it's already there?"
   ]
  },
  {
   "cell_type": "code",
   "execution_count": 2,
   "id": "364a6f9f-032e-42ec-8428-5310c57fedb3",
   "metadata": {
    "execution": {
     "iopub.execute_input": "2021-11-27T17:39:16.697749Z",
     "iopub.status.busy": "2021-11-27T17:39:16.697749Z",
     "iopub.status.idle": "2021-11-27T17:39:16.807097Z",
     "shell.execute_reply": "2021-11-27T17:39:16.807097Z",
     "shell.execute_reply.started": "2021-11-27T17:39:16.697749Z"
    }
   },
   "outputs": [
    {
     "name": "stdout",
     "output_type": "stream",
     "text": [
      "Sat Nov 27 09:39:16 2021       \n",
      "+-----------------------------------------------------------------------------+\n",
      "| NVIDIA-SMI 510.06       Driver Version: 510.06       CUDA Version: 11.6     |\n",
      "|-------------------------------+----------------------+----------------------+\n",
      "| GPU  Name            TCC/WDDM | Bus-Id        Disp.A | Volatile Uncorr. ECC |\n",
      "| Fan  Temp  Perf  Pwr:Usage/Cap|         Memory-Usage | GPU-Util  Compute M. |\n",
      "|                               |                      |               MIG M. |\n",
      "|===============================+======================+======================|\n",
      "|   0  NVIDIA GeForce ... WDDM  | 00000000:01:00.0 Off |                  N/A |\n",
      "|  0%   28C    P8     7W / 350W |    417MiB / 24576MiB |      0%      Default |\n",
      "|                               |                      |                  N/A |\n",
      "+-------------------------------+----------------------+----------------------+\n",
      "                                                                               \n",
      "+-----------------------------------------------------------------------------+\n",
      "| Processes:                                                                  |\n",
      "|  GPU   GI   CI        PID   Type   Process name                  GPU Memory |\n",
      "|        ID   ID                                                   Usage      |\n",
      "|=============================================================================|\n",
      "|    0   N/A  N/A      1492    C+G   ...bbwe\\Microsoft.Photos.exe    N/A      |\n",
      "|    0   N/A  N/A      1540    C+G   ...lPanel\\SystemSettings.exe    N/A      |\n",
      "|    0   N/A  N/A      7884    C+G   Insufficient Permissions        N/A      |\n",
      "|    0   N/A  N/A     12880    C+G   ...in7x64\\steamwebhelper.exe    N/A      |\n",
      "|    0   N/A  N/A     13644    C+G   ...ge\\Application\\msedge.exe    N/A      |\n",
      "|    0   N/A  N/A     15704    C+G   ...5n1h2txyewy\\SearchApp.exe    N/A      |\n",
      "|    0   N/A  N/A     16280    C+G   ...nputApp\\TextInputHost.exe    N/A      |\n",
      "|    0   N/A  N/A     17144    C+G   ...ekyb3d8bbwe\\YourPhone.exe    N/A      |\n",
      "|    0   N/A  N/A     17640    C+G   ...lack\\app-4.21.1\\slack.exe    N/A      |\n",
      "|    0   N/A  N/A     18584    C+G   C:\\Windows\\explorer.exe         N/A      |\n",
      "|    0   N/A  N/A     19760    C+G   ...y\\ShellExperienceHost.exe    N/A      |\n",
      "+-----------------------------------------------------------------------------+\n"
     ]
    }
   ],
   "source": [
    "!nvidia-smi"
   ]
  },
  {
   "cell_type": "code",
   "execution_count": 3,
   "id": "e8614030-134f-4d9c-a7be-48d09995f8ff",
   "metadata": {
    "execution": {
     "iopub.execute_input": "2021-11-27T17:39:16.807097Z",
     "iopub.status.busy": "2021-11-27T17:39:16.807097Z",
     "iopub.status.idle": "2021-11-27T17:39:17.307107Z",
     "shell.execute_reply": "2021-11-27T17:39:17.307107Z",
     "shell.execute_reply.started": "2021-11-27T17:39:16.807097Z"
    },
    "tags": []
   },
   "outputs": [],
   "source": [
    "import torch.nn as nn"
   ]
  },
  {
   "cell_type": "code",
   "execution_count": 4,
   "id": "d27c6f7f-daf4-45b8-80cf-aa2b286cb1cf",
   "metadata": {
    "execution": {
     "iopub.execute_input": "2021-11-27T17:39:17.307107Z",
     "iopub.status.busy": "2021-11-27T17:39:17.307107Z",
     "iopub.status.idle": "2021-11-27T17:39:17.723755Z",
     "shell.execute_reply": "2021-11-27T17:39:17.723755Z",
     "shell.execute_reply.started": "2021-11-27T17:39:17.307107Z"
    },
    "tags": []
   },
   "outputs": [],
   "source": [
    "import pytti\n",
    "#import pytti.Image"
   ]
  },
  {
   "cell_type": "code",
   "execution_count": 5,
   "id": "d4527cb3-44c3-4fb1-839f-1d007a37cb1b",
   "metadata": {
    "execution": {
     "iopub.execute_input": "2021-11-27T17:39:17.723755Z",
     "iopub.status.busy": "2021-11-27T17:39:17.723755Z",
     "iopub.status.idle": "2021-11-27T17:39:17.750984Z",
     "shell.execute_reply": "2021-11-27T17:39:17.750984Z",
     "shell.execute_reply.started": "2021-11-27T17:39:17.723755Z"
    }
   },
   "outputs": [],
   "source": [
    "# No module named 'glm' \n",
    "# invoked in pytti.Transforms, which exports apply_flow into OpticalFlowLoss\n",
    "# Looks like this is PyGLM, interface to OpenGL Math library\n",
    "# https://github.com/g-truc/glm\n",
    "# https://github.com/Zuzu-Typ/PyGLM ### SECRET SAUCE ALERT\n",
    "#\n",
    "# !pip install PyGLM\n",
    "#\n",
    "# yup that fixed it\n",
    "\n",
    "##############################\n",
    "#\\proj\\pytti\\LossAug\\DepthLoss.py in <module>\n",
    "#from infer import InferenceHelper\n",
    "#ModuleNotFoundError: No module named 'infer'\n",
    "#\n",
    "# Maybe something to do with AdaBins?\n",
    "# https://github.com/shariqfarooq123/AdaBins/issues/7\n",
    "#\n",
    "# Yeah, for sure an AdaBins thing. Let's deal with that later. \n",
    "# Pivot to explicit imports from Image rather than importing whole module.\n",
    "# Should let me keep moving forward?"
   ]
  },
  {
   "cell_type": "code",
   "execution_count": 6,
   "id": "e53a2362-c43e-4f73-8a07-713a3fb3dd22",
   "metadata": {
    "execution": {
     "iopub.execute_input": "2021-11-27T17:39:17.750984Z",
     "iopub.status.busy": "2021-11-27T17:39:17.750984Z",
     "iopub.status.idle": "2021-11-27T17:39:17.766622Z",
     "shell.execute_reply": "2021-11-27T17:39:17.766622Z",
     "shell.execute_reply.started": "2021-11-27T17:39:17.750984Z"
    },
    "tags": []
   },
   "outputs": [],
   "source": [
    "#import pytti.Image"
   ]
  },
  {
   "cell_type": "code",
   "execution_count": 7,
   "id": "a01c132b-5b9e-4e40-9f3b-6691dc66e477",
   "metadata": {
    "execution": {
     "iopub.execute_input": "2021-11-27T17:39:17.766622Z",
     "iopub.status.busy": "2021-11-27T17:39:17.766622Z",
     "iopub.status.idle": "2021-11-27T17:39:18.924594Z",
     "shell.execute_reply": "2021-11-27T17:39:18.924594Z",
     "shell.execute_reply.started": "2021-11-27T17:39:17.766622Z"
    },
    "tags": []
   },
   "outputs": [],
   "source": [
    "from pytti.Image import VQGANImage # nope, still an issue.\n",
    "# it's attached to PixelImage, which gets imported in pytti.Image.__init__\n",
    "# commented out that one import, shit's working again.\n",
    "#### SECRET SAUCE ALERT <-- AdaBins is a component of the pixelation trick\n",
    "#\n",
    "# VQGANImage is a subtype of DifferentiableImage"
   ]
  },
  {
   "cell_type": "code",
   "execution_count": 8,
   "id": "4ee23bdf-fea5-4ee6-9c60-74a22e66cae7",
   "metadata": {
    "execution": {
     "iopub.execute_input": "2021-11-27T17:39:18.924594Z",
     "iopub.status.busy": "2021-11-27T17:39:18.924594Z",
     "iopub.status.idle": "2021-11-27T17:39:18.948891Z",
     "shell.execute_reply": "2021-11-27T17:39:18.948891Z",
     "shell.execute_reply.started": "2021-11-27T17:39:18.924594Z"
    },
    "tags": []
   },
   "outputs": [
    {
     "name": "stdout",
     "output_type": "stream",
     "text": [
      "Help on function init_vqgan in module pytti.Image.VQGANImage:\n",
      "\n",
      "init_vqgan(model_name, device=device(type='cuda', index=0))\n",
      "\n"
     ]
    }
   ],
   "source": [
    "help(VQGANImage.init_vqgan)"
   ]
  },
  {
   "cell_type": "code",
   "execution_count": 9,
   "id": "b3c23c6e-123d-465f-98af-fd0fd1098824",
   "metadata": {
    "execution": {
     "iopub.execute_input": "2021-11-27T17:39:18.948891Z",
     "iopub.status.busy": "2021-11-27T17:39:18.948891Z",
     "iopub.status.idle": "2021-11-27T17:39:18.964510Z",
     "shell.execute_reply": "2021-11-27T17:39:18.964510Z",
     "shell.execute_reply.started": "2021-11-27T17:39:18.948891Z"
    },
    "tags": []
   },
   "outputs": [],
   "source": [
    "from pytti.Image.VQGANImage import VQGAN_MODEL_NAMES"
   ]
  },
  {
   "cell_type": "code",
   "execution_count": 10,
   "id": "7b7d6026-88ea-4e0b-8355-e1424483981c",
   "metadata": {
    "execution": {
     "iopub.execute_input": "2021-11-27T17:39:18.964510Z",
     "iopub.status.busy": "2021-11-27T17:39:18.964510Z",
     "iopub.status.idle": "2021-11-27T17:39:18.980169Z",
     "shell.execute_reply": "2021-11-27T17:39:18.980169Z",
     "shell.execute_reply.started": "2021-11-27T17:39:18.964510Z"
    },
    "tags": []
   },
   "outputs": [
    {
     "data": {
      "text/plain": [
       "['imagenet', 'coco', 'wikiart', 'sflckr', 'openimages']"
      ]
     },
     "execution_count": 10,
     "metadata": {},
     "output_type": "execute_result"
    }
   ],
   "source": [
    "VQGAN_MODEL_NAMES # part of the colab UI, presumably"
   ]
  },
  {
   "cell_type": "code",
   "execution_count": 11,
   "id": "cf7937b4-b584-4b94-94bc-b87d05846fb8",
   "metadata": {
    "execution": {
     "iopub.execute_input": "2021-11-27T17:39:18.980169Z",
     "iopub.status.busy": "2021-11-27T17:39:18.980169Z",
     "iopub.status.idle": "2021-11-27T17:39:19.058303Z",
     "shell.execute_reply": "2021-11-27T17:39:19.058303Z",
     "shell.execute_reply.started": "2021-11-27T17:39:18.980169Z"
    }
   },
   "outputs": [
    {
     "name": "stdout",
     "output_type": "stream",
     "text": [
      "Sat Nov 27 09:39:19 2021       \n",
      "+-----------------------------------------------------------------------------+\n",
      "| NVIDIA-SMI 510.06       Driver Version: 510.06       CUDA Version: 11.6     |\n",
      "|-------------------------------+----------------------+----------------------+\n",
      "| GPU  Name            TCC/WDDM | Bus-Id        Disp.A | Volatile Uncorr. ECC |\n",
      "| Fan  Temp  Perf  Pwr:Usage/Cap|         Memory-Usage | GPU-Util  Compute M. |\n",
      "|                               |                      |               MIG M. |\n",
      "|===============================+======================+======================|\n",
      "|   0  NVIDIA GeForce ... WDDM  | 00000000:01:00.0 Off |                  N/A |\n",
      "|  0%   28C    P8    12W / 350W |    417MiB / 24576MiB |      0%      Default |\n",
      "|                               |                      |                  N/A |\n",
      "+-------------------------------+----------------------+----------------------+\n",
      "                                                                               \n",
      "+-----------------------------------------------------------------------------+\n",
      "| Processes:                                                                  |\n",
      "|  GPU   GI   CI        PID   Type   Process name                  GPU Memory |\n",
      "|        ID   ID                                                   Usage      |\n",
      "|=============================================================================|\n",
      "|    0   N/A  N/A      1492    C+G   ...bbwe\\Microsoft.Photos.exe    N/A      |\n",
      "|    0   N/A  N/A      1540    C+G   ...lPanel\\SystemSettings.exe    N/A      |\n",
      "|    0   N/A  N/A      7884    C+G   Insufficient Permissions        N/A      |\n",
      "|    0   N/A  N/A     12880    C+G   ...in7x64\\steamwebhelper.exe    N/A      |\n",
      "|    0   N/A  N/A     13644    C+G   ...ge\\Application\\msedge.exe    N/A      |\n",
      "|    0   N/A  N/A     15704    C+G   ...5n1h2txyewy\\SearchApp.exe    N/A      |\n",
      "|    0   N/A  N/A     16280    C+G   ...nputApp\\TextInputHost.exe    N/A      |\n",
      "|    0   N/A  N/A     17144    C+G   ...ekyb3d8bbwe\\YourPhone.exe    N/A      |\n",
      "|    0   N/A  N/A     17640    C+G   ...lack\\app-4.21.1\\slack.exe    N/A      |\n",
      "|    0   N/A  N/A     18584    C+G   C:\\Windows\\explorer.exe         N/A      |\n",
      "|    0   N/A  N/A     19760    C+G   ...y\\ShellExperienceHost.exe    N/A      |\n",
      "+-----------------------------------------------------------------------------+\n"
     ]
    }
   ],
   "source": [
    "!nvidia-smi"
   ]
  },
  {
   "cell_type": "code",
   "execution_count": 12,
   "id": "bfc4907e-239b-4256-969a-a25ee3369723",
   "metadata": {
    "execution": {
     "iopub.execute_input": "2021-11-27T17:39:19.058303Z",
     "iopub.status.busy": "2021-11-27T17:39:19.058303Z",
     "iopub.status.idle": "2021-11-27T17:39:21.812362Z",
     "shell.execute_reply": "2021-11-27T17:39:21.812362Z",
     "shell.execute_reply.started": "2021-11-27T17:39:19.058303Z"
    },
    "tags": []
   },
   "outputs": [
    {
     "name": "stdout",
     "output_type": "stream",
     "text": [
      "Working with z of shape (1, 256, 16, 16) = 65536 dimensions.\n",
      "loaded pretrained LPIPS loss from taming/modules/autoencoder/lpips\\vgg.pth\n",
      "VQLPIPSWithDiscriminator running with hinge loss.\n",
      "Restored from imagenet.ckpt\n"
     ]
    }
   ],
   "source": [
    "model_idx = 0\n",
    "model_name = VQGAN_MODEL_NAMES[model_idx]\n",
    "VQGANImage.init_vqgan(model_name=model_name)\n",
    "# WARNING: VQGAN config file imagenet.yaml not found. Initializing download.\n",
    "# WARNING: VQGAN checkpoint file imagenet.ckpt not found. Initializing download.\n",
    "# nice. looking good."
   ]
  },
  {
   "cell_type": "code",
   "execution_count": 13,
   "id": "dec5494b-3ffa-472a-bf75-d20498949e33",
   "metadata": {
    "execution": {
     "iopub.execute_input": "2021-11-27T17:39:21.812362Z",
     "iopub.status.busy": "2021-11-27T17:39:21.812362Z",
     "iopub.status.idle": "2021-11-27T17:39:22.389880Z",
     "shell.execute_reply": "2021-11-27T17:39:22.389880Z",
     "shell.execute_reply.started": "2021-11-27T17:39:21.812362Z"
    },
    "tags": []
   },
   "outputs": [],
   "source": [
    "img = VQGANImage(width=200, height=200) # is this right?"
   ]
  },
  {
   "cell_type": "code",
   "execution_count": 14,
   "id": "9db51571-3fbe-4e81-83ea-e40f0bcd98c8",
   "metadata": {
    "execution": {
     "iopub.execute_input": "2021-11-27T17:39:22.389880Z",
     "iopub.status.busy": "2021-11-27T17:39:22.389880Z",
     "iopub.status.idle": "2021-11-27T17:39:22.784456Z",
     "shell.execute_reply": "2021-11-27T17:39:22.784456Z",
     "shell.execute_reply.started": "2021-11-27T17:39:22.389880Z"
    },
    "tags": []
   },
   "outputs": [],
   "source": [
    "from pytti.ImageGuide import DirectImageGuide\n",
    "# had to install labelLines to get this part to work."
   ]
  },
  {
   "cell_type": "code",
   "execution_count": 15,
   "id": "54408447-c354-4a41-b5eb-30598d1f5704",
   "metadata": {
    "execution": {
     "iopub.execute_input": "2021-11-27T17:39:22.784456Z",
     "iopub.status.busy": "2021-11-27T17:39:22.784456Z",
     "iopub.status.idle": "2021-11-27T17:39:22.804501Z",
     "shell.execute_reply": "2021-11-27T17:39:22.804501Z",
     "shell.execute_reply.started": "2021-11-27T17:39:22.784456Z"
    },
    "tags": []
   },
   "outputs": [
    {
     "name": "stdout",
     "output_type": "stream",
     "text": [
      "Help on class DirectImageGuide in module pytti.ImageGuide:\n",
      "\n",
      "class DirectImageGuide(builtins.object)\n",
      " |  DirectImageGuide(image_rep, embedder, optimizer=None, lr=None, **optimizer_params)\n",
      " |  \n",
      " |  Image guide that uses an optimizer and torch autograd to optimize an image representation\n",
      " |  Based on the BigGan+CLIP algorithm by advadnoun (https://twitter.com/advadnoun)\n",
      " |  image_rep: (DifferentiableImage) image representation\n",
      " |  embedder: (Module)               image embedder\n",
      " |  optimizer: (Class)               optimizer class to use. Defaults to Adam\n",
      " |  all other arguments are passed as kwargs to the optimizer.\n",
      " |  \n",
      " |  Methods defined here:\n",
      " |  \n",
      " |  __init__(self, image_rep, embedder, optimizer=None, lr=None, **optimizer_params)\n",
      " |      Initialize self.  See help(type(self)) for accurate signature.\n",
      " |  \n",
      " |  clear_dataframe(self)\n",
      " |  \n",
      " |  plot_losses(self, axs)\n",
      " |  \n",
      " |  run_steps(self, n_steps, prompts, interp_prompts, loss_augs, stop=-inf, interp_steps=0, i_offset=0, skipped_steps=0)\n",
      " |      runs the optimizer\n",
      " |      prompts: (ClipPrompt list) list of prompts\n",
      " |      n_steps: (positive integer) steps to run\n",
      " |      returns: the number of steps run\n",
      " |  \n",
      " |  set_optim(self, opt=None)\n",
      " |  \n",
      " |  train(self, i, prompts, interp_prompts, loss_augs, interp_steps=0, save_loss=True)\n",
      " |      steps the optimizer\n",
      " |      promts: (ClipPrompt list) list of prompts\n",
      " |  \n",
      " |  update(self, i, stage_i)\n",
      " |      update hook called ever step\n",
      " |  \n",
      " |  ----------------------------------------------------------------------\n",
      " |  Data descriptors defined here:\n",
      " |  \n",
      " |  __dict__\n",
      " |      dictionary for instance variables (if defined)\n",
      " |  \n",
      " |  __weakref__\n",
      " |      list of weak references to the object (if defined)\n",
      "\n"
     ]
    }
   ],
   "source": [
    "help(DirectImageGuide)"
   ]
  },
  {
   "cell_type": "code",
   "execution_count": 16,
   "id": "51ddc7da-e544-42cb-8445-992d4287365a",
   "metadata": {
    "execution": {
     "iopub.execute_input": "2021-11-27T17:39:22.804501Z",
     "iopub.status.busy": "2021-11-27T17:39:22.804501Z",
     "iopub.status.idle": "2021-11-27T17:39:22.930205Z",
     "shell.execute_reply": "2021-11-27T17:39:22.930205Z",
     "shell.execute_reply.started": "2021-11-27T17:39:22.804501Z"
    },
    "tags": []
   },
   "outputs": [],
   "source": [
    "from pytti import Perceptor\n",
    "# had to add __init__.py to CLIP directory \n",
    "# and changed import in pytti.Perceptor\n",
    "# oh.... I think I was actually supposed to install CLIP? It has a setup.py..."
   ]
  },
  {
   "cell_type": "code",
   "execution_count": 17,
   "id": "f402fc64-c3c7-4bc3-9f19-a386901b9359",
   "metadata": {
    "execution": {
     "iopub.execute_input": "2021-11-27T17:39:22.930205Z",
     "iopub.status.busy": "2021-11-27T17:39:22.930205Z",
     "iopub.status.idle": "2021-11-27T17:39:23.008306Z",
     "shell.execute_reply": "2021-11-27T17:39:23.008306Z",
     "shell.execute_reply.started": "2021-11-27T17:39:22.930205Z"
    },
    "tags": []
   },
   "outputs": [
    {
     "name": "stdout",
     "output_type": "stream",
     "text": [
      "Sat Nov 27 09:39:22 2021       \n",
      "+-----------------------------------------------------------------------------+\n",
      "| NVIDIA-SMI 510.06       Driver Version: 510.06       CUDA Version: 11.6     |\n",
      "|-------------------------------+----------------------+----------------------+\n",
      "| GPU  Name            TCC/WDDM | Bus-Id        Disp.A | Volatile Uncorr. ECC |\n",
      "| Fan  Temp  Perf  Pwr:Usage/Cap|         Memory-Usage | GPU-Util  Compute M. |\n",
      "|                               |                      |               MIG M. |\n",
      "|===============================+======================+======================|\n",
      "|   0  NVIDIA GeForce ... WDDM  | 00000000:01:00.0 Off |                  N/A |\n",
      "|  0%   31C    P2   102W / 350W |   1846MiB / 24576MiB |      0%      Default |\n",
      "|                               |                      |                  N/A |\n",
      "+-------------------------------+----------------------+----------------------+\n",
      "                                                                               \n",
      "+-----------------------------------------------------------------------------+\n",
      "| Processes:                                                                  |\n",
      "|  GPU   GI   CI        PID   Type   Process name                  GPU Memory |\n",
      "|        ID   ID                                                   Usage      |\n",
      "|=============================================================================|\n",
      "|    0   N/A  N/A      1492    C+G   ...bbwe\\Microsoft.Photos.exe    N/A      |\n",
      "|    0   N/A  N/A      1540    C+G   ...lPanel\\SystemSettings.exe    N/A      |\n",
      "|    0   N/A  N/A      7884    C+G   Insufficient Permissions        N/A      |\n",
      "|    0   N/A  N/A     12880    C+G   ...in7x64\\steamwebhelper.exe    N/A      |\n",
      "|    0   N/A  N/A     13644    C+G   ...ge\\Application\\msedge.exe    N/A      |\n",
      "|    0   N/A  N/A     15704    C+G   ...5n1h2txyewy\\SearchApp.exe    N/A      |\n",
      "|    0   N/A  N/A     16280    C+G   ...nputApp\\TextInputHost.exe    N/A      |\n",
      "|    0   N/A  N/A     17144    C+G   ...ekyb3d8bbwe\\YourPhone.exe    N/A      |\n",
      "|    0   N/A  N/A     17640    C+G   ...lack\\app-4.21.1\\slack.exe    N/A      |\n",
      "|    0   N/A  N/A     18584    C+G   C:\\Windows\\explorer.exe         N/A      |\n",
      "|    0   N/A  N/A     19212      C   ...3\\envs\\sandbox\\python.exe    N/A      |\n",
      "|    0   N/A  N/A     19760    C+G   ...y\\ShellExperienceHost.exe    N/A      |\n",
      "+-----------------------------------------------------------------------------+\n"
     ]
    }
   ],
   "source": [
    "!nvidia-smi"
   ]
  },
  {
   "cell_type": "code",
   "execution_count": 18,
   "id": "d876be94-de7c-42e2-aadb-6506025e07ac",
   "metadata": {
    "execution": {
     "iopub.execute_input": "2021-11-27T17:39:23.008306Z",
     "iopub.status.busy": "2021-11-27T17:39:23.008306Z",
     "iopub.status.idle": "2021-11-27T17:39:25.449776Z",
     "shell.execute_reply": "2021-11-27T17:39:25.449776Z",
     "shell.execute_reply.started": "2021-11-27T17:39:23.008306Z"
    },
    "tags": []
   },
   "outputs": [],
   "source": [
    "import pytti.CLIP # it's a little funny but whatever\n",
    "\n",
    "available_clip_models = pytti.CLIP.clip.available_models()\n",
    "#Perceptor.init_clip(available_clip_models)\n",
    "Perceptor.init_clip([available_clip_models[-1]])\n",
    "# nice\n",
    "#Perceptor.free_clip()"
   ]
  },
  {
   "cell_type": "code",
   "execution_count": 19,
   "id": "3af1c70c-ef20-4dde-a0d2-8b1e15ee8e54",
   "metadata": {
    "execution": {
     "iopub.execute_input": "2021-11-27T17:39:25.449776Z",
     "iopub.status.busy": "2021-11-27T17:39:25.449776Z",
     "iopub.status.idle": "2021-11-27T17:39:25.532156Z",
     "shell.execute_reply": "2021-11-27T17:39:25.532156Z",
     "shell.execute_reply.started": "2021-11-27T17:39:25.449776Z"
    }
   },
   "outputs": [
    {
     "name": "stdout",
     "output_type": "stream",
     "text": [
      "Sat Nov 27 09:39:25 2021       \n",
      "+-----------------------------------------------------------------------------+\n",
      "| NVIDIA-SMI 510.06       Driver Version: 510.06       CUDA Version: 11.6     |\n",
      "|-------------------------------+----------------------+----------------------+\n",
      "| GPU  Name            TCC/WDDM | Bus-Id        Disp.A | Volatile Uncorr. ECC |\n",
      "| Fan  Temp  Perf  Pwr:Usage/Cap|         Memory-Usage | GPU-Util  Compute M. |\n",
      "|                               |                      |               MIG M. |\n",
      "|===============================+======================+======================|\n",
      "|   0  NVIDIA GeForce ... WDDM  | 00000000:01:00.0 Off |                  N/A |\n",
      "|  0%   29C    P8    16W / 350W |   2152MiB / 24576MiB |     37%      Default |\n",
      "|                               |                      |                  N/A |\n",
      "+-------------------------------+----------------------+----------------------+\n",
      "                                                                               \n",
      "+-----------------------------------------------------------------------------+\n",
      "| Processes:                                                                  |\n",
      "|  GPU   GI   CI        PID   Type   Process name                  GPU Memory |\n",
      "|        ID   ID                                                   Usage      |\n",
      "|=============================================================================|\n",
      "|    0   N/A  N/A      1492    C+G   ...bbwe\\Microsoft.Photos.exe    N/A      |\n",
      "|    0   N/A  N/A      1540    C+G   ...lPanel\\SystemSettings.exe    N/A      |\n",
      "|    0   N/A  N/A      7884    C+G   Insufficient Permissions        N/A      |\n",
      "|    0   N/A  N/A     12880    C+G   ...in7x64\\steamwebhelper.exe    N/A      |\n",
      "|    0   N/A  N/A     13644    C+G   ...ge\\Application\\msedge.exe    N/A      |\n",
      "|    0   N/A  N/A     15704    C+G   ...5n1h2txyewy\\SearchApp.exe    N/A      |\n",
      "|    0   N/A  N/A     16280    C+G   ...nputApp\\TextInputHost.exe    N/A      |\n",
      "|    0   N/A  N/A     17144    C+G   ...ekyb3d8bbwe\\YourPhone.exe    N/A      |\n",
      "|    0   N/A  N/A     17640    C+G   ...lack\\app-4.21.1\\slack.exe    N/A      |\n",
      "|    0   N/A  N/A     18584    C+G   C:\\Windows\\explorer.exe         N/A      |\n",
      "|    0   N/A  N/A     19212      C   ...3\\envs\\sandbox\\python.exe    N/A      |\n",
      "|    0   N/A  N/A     19760    C+G   ...y\\ShellExperienceHost.exe    N/A      |\n",
      "+-----------------------------------------------------------------------------+\n"
     ]
    }
   ],
   "source": [
    "!nvidia-smi"
   ]
  },
  {
   "cell_type": "code",
   "execution_count": 20,
   "id": "894d8800-ef6d-4d4c-be91-6dca234193f6",
   "metadata": {
    "execution": {
     "iopub.execute_input": "2021-11-27T17:39:25.532156Z",
     "iopub.status.busy": "2021-11-27T17:39:25.532156Z",
     "iopub.status.idle": "2021-11-27T17:39:25.672793Z",
     "shell.execute_reply": "2021-11-27T17:39:25.672793Z",
     "shell.execute_reply.started": "2021-11-27T17:39:25.532156Z"
    },
    "tags": []
   },
   "outputs": [],
   "source": [
    "from pytti.Perceptor.Embedder import HDMultiClipEmbedder\n",
    "\n",
    "emb = HDMultiClipEmbedder()"
   ]
  },
  {
   "cell_type": "code",
   "execution_count": 21,
   "id": "a6b2554d-11e4-4ed0-9bca-d048f6ee9f87",
   "metadata": {
    "execution": {
     "iopub.execute_input": "2021-11-27T17:39:25.672793Z",
     "iopub.status.busy": "2021-11-27T17:39:25.672793Z",
     "iopub.status.idle": "2021-11-27T17:39:25.688424Z",
     "shell.execute_reply": "2021-11-27T17:39:25.688424Z",
     "shell.execute_reply.started": "2021-11-27T17:39:25.672793Z"
    },
    "tags": []
   },
   "outputs": [],
   "source": [
    "guide = DirectImageGuide(image_rep=img, embedder=emb)\n",
    "# 2 required positional arguments: 'image_rep' and 'embedder'\n",
    "# image_rep: (DifferentiableImage) image representation\n",
    "# embedder: (Module)               image embedder"
   ]
  },
  {
   "cell_type": "code",
   "execution_count": 22,
   "id": "93c77f20-c22e-4b61-9961-9e2b3938fba6",
   "metadata": {
    "execution": {
     "iopub.execute_input": "2021-11-27T17:39:25.688424Z",
     "iopub.status.busy": "2021-11-27T17:39:25.688424Z",
     "iopub.status.idle": "2021-11-27T17:39:25.766553Z",
     "shell.execute_reply": "2021-11-27T17:39:25.766553Z",
     "shell.execute_reply.started": "2021-11-27T17:39:25.688424Z"
    }
   },
   "outputs": [
    {
     "name": "stdout",
     "output_type": "stream",
     "text": [
      "Sat Nov 27 09:39:25 2021       \n",
      "+-----------------------------------------------------------------------------+\n",
      "| NVIDIA-SMI 510.06       Driver Version: 510.06       CUDA Version: 11.6     |\n",
      "|-------------------------------+----------------------+----------------------+\n",
      "| GPU  Name            TCC/WDDM | Bus-Id        Disp.A | Volatile Uncorr. ECC |\n",
      "| Fan  Temp  Perf  Pwr:Usage/Cap|         Memory-Usage | GPU-Util  Compute M. |\n",
      "|                               |                      |               MIG M. |\n",
      "|===============================+======================+======================|\n",
      "|   0  NVIDIA GeForce ... WDDM  | 00000000:01:00.0 Off |                  N/A |\n",
      "|  0%   29C    P8    15W / 350W |   2152MiB / 24576MiB |      0%      Default |\n",
      "|                               |                      |                  N/A |\n",
      "+-------------------------------+----------------------+----------------------+\n",
      "                                                                               \n",
      "+-----------------------------------------------------------------------------+\n",
      "| Processes:                                                                  |\n",
      "|  GPU   GI   CI        PID   Type   Process name                  GPU Memory |\n",
      "|        ID   ID                                                   Usage      |\n",
      "|=============================================================================|\n",
      "|    0   N/A  N/A      1492    C+G   ...bbwe\\Microsoft.Photos.exe    N/A      |\n",
      "|    0   N/A  N/A      1540    C+G   ...lPanel\\SystemSettings.exe    N/A      |\n",
      "|    0   N/A  N/A      7884    C+G   Insufficient Permissions        N/A      |\n",
      "|    0   N/A  N/A     12880    C+G   ...in7x64\\steamwebhelper.exe    N/A      |\n",
      "|    0   N/A  N/A     13644    C+G   ...ge\\Application\\msedge.exe    N/A      |\n",
      "|    0   N/A  N/A     15704    C+G   ...5n1h2txyewy\\SearchApp.exe    N/A      |\n",
      "|    0   N/A  N/A     16280    C+G   ...nputApp\\TextInputHost.exe    N/A      |\n",
      "|    0   N/A  N/A     17144    C+G   ...ekyb3d8bbwe\\YourPhone.exe    N/A      |\n",
      "|    0   N/A  N/A     17640    C+G   ...lack\\app-4.21.1\\slack.exe    N/A      |\n",
      "|    0   N/A  N/A     18584    C+G   C:\\Windows\\explorer.exe         N/A      |\n",
      "|    0   N/A  N/A     19212      C   ...3\\envs\\sandbox\\python.exe    N/A      |\n",
      "|    0   N/A  N/A     19760    C+G   ...y\\ShellExperienceHost.exe    N/A      |\n",
      "+-----------------------------------------------------------------------------+\n"
     ]
    }
   ],
   "source": [
    "!nvidia-smi"
   ]
  },
  {
   "cell_type": "code",
   "execution_count": 23,
   "id": "3a1ebac8-4a56-4eb0-b614-9504cdebb2ae",
   "metadata": {
    "execution": {
     "iopub.execute_input": "2021-11-27T17:39:25.766553Z",
     "iopub.status.busy": "2021-11-27T17:39:25.766553Z",
     "iopub.status.idle": "2021-11-27T17:39:25.782155Z",
     "shell.execute_reply": "2021-11-27T17:39:25.782155Z",
     "shell.execute_reply.started": "2021-11-27T17:39:25.766553Z"
    }
   },
   "outputs": [],
   "source": [
    "# just for my reference, \n",
    "\n",
    "# from pytti.__init__\n",
    "###########################\n",
    "#def format_input(tensor, source, dest):\n",
    "#  return named_rearrange(tensor, source.output_axes, dest.input_axes)\n",
    "\n",
    "# from pytti.ImageGuide.DirectImageGuide.train\n",
    "###########################\n",
    "#    prompt_losses = {prompt:prompt(format_input(image_embeds, self.embedder, prompt),\n",
    "#                                   format_input(offsets, self.embedder, prompt),\n",
    "#                                   format_input(sizes, self.embedder, prompt)) for prompt in prompts}\n",
    "\n"
   ]
  },
  {
   "cell_type": "code",
   "execution_count": 24,
   "id": "766bf0a3-7a09-40b6-be77-f930ba0bc44d",
   "metadata": {
    "execution": {
     "iopub.execute_input": "2021-11-27T17:39:25.782155Z",
     "iopub.status.busy": "2021-11-27T17:39:25.782155Z",
     "iopub.status.idle": "2021-11-27T17:39:25.797778Z",
     "shell.execute_reply": "2021-11-27T17:39:25.797778Z",
     "shell.execute_reply.started": "2021-11-27T17:39:25.782155Z"
    },
    "tags": []
   },
   "outputs": [
    {
     "name": "stdout",
     "output_type": "stream",
     "text": [
      "Help on method run_steps in module pytti.ImageGuide:\n",
      "\n",
      "run_steps(n_steps, prompts, interp_prompts, loss_augs, stop=-inf, interp_steps=0, i_offset=0, skipped_steps=0) method of pytti.ImageGuide.DirectImageGuide instance\n",
      "    runs the optimizer\n",
      "    prompts: (ClipPrompt list) list of prompts\n",
      "    n_steps: (positive integer) steps to run\n",
      "    returns: the number of steps run\n",
      "\n"
     ]
    }
   ],
   "source": [
    "#oh baby\n",
    "help(guide.run_steps)\n",
    "# run_steps(\n",
    "#  n_steps, prompts, interp_prompts, loss_augs, \n",
    "#  stop=-inf, interp_steps=0, i_offset=0, skipped_steps=0)\n",
    "\n",
    "#prompts: (ClipPrompt list) list of prompts\n",
    "#n_steps: (positive integer) steps to run\n",
    "#returns: the number of steps run\n",
    "\n",
    "# Looks like I need to define a ClipPrompt class\n",
    "# Probably a Prompt class in the original notebook or somethign like that"
   ]
  },
  {
   "cell_type": "code",
   "execution_count": 25,
   "id": "b6b39c60-b743-49f7-b27e-2befb4833d05",
   "metadata": {
    "execution": {
     "iopub.execute_input": "2021-11-27T17:39:25.797778Z",
     "iopub.status.busy": "2021-11-27T17:39:25.797778Z",
     "iopub.status.idle": "2021-11-27T17:39:25.813411Z",
     "shell.execute_reply": "2021-11-27T17:39:25.813411Z",
     "shell.execute_reply.started": "2021-11-27T17:39:25.797778Z"
    },
    "tags": []
   },
   "outputs": [],
   "source": [
    "# temporary workaround\n",
    "from dataclasses import dataclass\n",
    "\n",
    "@dataclass\n",
    "class Args:\n",
    "    prompts = ['a painting of an apple']\n",
    "    \n",
    "args = Args()"
   ]
  },
  {
   "cell_type": "code",
   "execution_count": 26,
   "id": "ddbf003c-25f9-45de-b984-06a5d0e0322c",
   "metadata": {
    "execution": {
     "iopub.execute_input": "2021-11-27T17:39:25.813411Z",
     "iopub.status.busy": "2021-11-27T17:39:25.813411Z",
     "iopub.status.idle": "2021-11-27T17:39:25.829030Z",
     "shell.execute_reply": "2021-11-27T17:39:25.829030Z",
     "shell.execute_reply.started": "2021-11-27T17:39:25.813411Z"
    },
    "tags": []
   },
   "outputs": [],
   "source": [
    "# modified from\n",
    "#https://colab.research.google.com/drive/1iLdYrjtEYLDs_KpLbZOUEVlZpEgY3E8b#scrollTo=EXMSuW2EQWsd\n",
    "\n",
    "# Naw fuck that, check out pytti.Perceptor.Prompt\n",
    "#class Prompt(nn.Module):\n",
    "#class ClipPrompt(nn.Module):\n",
    "#    def __init__(self, embed, weight=1., stop=float('-inf')):\n",
    "#        super().__init__()\n",
    "#        self.register_buffer('embed', embed)\n",
    "#        self.register_buffer('weight', torch.as_tensor(weight))\n",
    "#        self.register_buffer('stop', torch.as_tensor(stop))\n",
    "# \n",
    "#    def forward(self, input):\n",
    "#        input_normed = F.normalize(input.unsqueeze(1), dim=2)\n",
    "#        embed_normed = F.normalize(self.embed.unsqueeze(0), dim=2)\n",
    "#        dists = input_normed.sub(embed_normed).norm(dim=2).div(2).arcsin().pow(2).mul(2)\n",
    "#        dists = dists * self.weight.sign()\n",
    "#        return self.weight.abs() * replace_grad(dists, torch.maximum(dists, self.stop)).mean()\n",
    " \n",
    "# modified from\n",
    "#https://colab.research.google.com/drive/1iLdYrjtEYLDs_KpLbZOUEVlZpEgY3E8b#scrollTo=EXMSuW2EQWsd\n",
    "\n",
    "#pMs = []\n",
    "\n",
    "#for prompt in args.prompts:\n",
    "#for prompt in args.prompts:\n",
    "#    txt, weight, stop = parse_prompt(prompt)\n",
    "#    embed = perceptor.encode_text(clip.tokenize(txt).to(device)).float()\n",
    "#    pMs.append(Prompt(embed, weight, stop).to(device))"
   ]
  },
  {
   "cell_type": "code",
   "execution_count": 27,
   "id": "33811e87-cc26-4957-bfd5-f88d283abcf2",
   "metadata": {
    "execution": {
     "iopub.execute_input": "2021-11-27T17:39:25.829030Z",
     "iopub.status.busy": "2021-11-27T17:39:25.829030Z",
     "iopub.status.idle": "2021-11-27T17:39:25.844654Z",
     "shell.execute_reply": "2021-11-27T17:39:25.844654Z",
     "shell.execute_reply.started": "2021-11-27T17:39:25.829030Z"
    },
    "tags": []
   },
   "outputs": [],
   "source": [
    "from pytti.Perceptor.Prompt import Prompt, MultiClipImagePrompt, parse_prompt\n",
    "# ugh the CLIP thing..."
   ]
  },
  {
   "cell_type": "code",
   "execution_count": 28,
   "id": "34e290a8-1b3c-4db3-a205-232f37487f26",
   "metadata": {
    "execution": {
     "iopub.execute_input": "2021-11-27T17:39:25.844654Z",
     "iopub.status.busy": "2021-11-27T17:39:25.844654Z",
     "iopub.status.idle": "2021-11-27T17:39:25.860282Z",
     "shell.execute_reply": "2021-11-27T17:39:25.860282Z",
     "shell.execute_reply.started": "2021-11-27T17:39:25.844654Z"
    }
   },
   "outputs": [
    {
     "data": {
      "text/plain": [
       "[CLIP(\n",
       "   (visual): VisionTransformer(\n",
       "     (conv1): Conv2d(3, 768, kernel_size=(16, 16), stride=(16, 16), bias=False)\n",
       "     (ln_pre): LayerNorm((768,), eps=1e-05, elementwise_affine=True)\n",
       "     (transformer): Transformer(\n",
       "       (resblocks): Sequential(\n",
       "         (0): ResidualAttentionBlock(\n",
       "           (attn): MultiheadAttention(\n",
       "             (out_proj): NonDynamicallyQuantizableLinear(in_features=768, out_features=768, bias=True)\n",
       "           )\n",
       "           (ln_1): LayerNorm((768,), eps=1e-05, elementwise_affine=True)\n",
       "           (mlp): Sequential(\n",
       "             (c_fc): Linear(in_features=768, out_features=3072, bias=True)\n",
       "             (gelu): QuickGELU()\n",
       "             (c_proj): Linear(in_features=3072, out_features=768, bias=True)\n",
       "           )\n",
       "           (ln_2): LayerNorm((768,), eps=1e-05, elementwise_affine=True)\n",
       "         )\n",
       "         (1): ResidualAttentionBlock(\n",
       "           (attn): MultiheadAttention(\n",
       "             (out_proj): NonDynamicallyQuantizableLinear(in_features=768, out_features=768, bias=True)\n",
       "           )\n",
       "           (ln_1): LayerNorm((768,), eps=1e-05, elementwise_affine=True)\n",
       "           (mlp): Sequential(\n",
       "             (c_fc): Linear(in_features=768, out_features=3072, bias=True)\n",
       "             (gelu): QuickGELU()\n",
       "             (c_proj): Linear(in_features=3072, out_features=768, bias=True)\n",
       "           )\n",
       "           (ln_2): LayerNorm((768,), eps=1e-05, elementwise_affine=True)\n",
       "         )\n",
       "         (2): ResidualAttentionBlock(\n",
       "           (attn): MultiheadAttention(\n",
       "             (out_proj): NonDynamicallyQuantizableLinear(in_features=768, out_features=768, bias=True)\n",
       "           )\n",
       "           (ln_1): LayerNorm((768,), eps=1e-05, elementwise_affine=True)\n",
       "           (mlp): Sequential(\n",
       "             (c_fc): Linear(in_features=768, out_features=3072, bias=True)\n",
       "             (gelu): QuickGELU()\n",
       "             (c_proj): Linear(in_features=3072, out_features=768, bias=True)\n",
       "           )\n",
       "           (ln_2): LayerNorm((768,), eps=1e-05, elementwise_affine=True)\n",
       "         )\n",
       "         (3): ResidualAttentionBlock(\n",
       "           (attn): MultiheadAttention(\n",
       "             (out_proj): NonDynamicallyQuantizableLinear(in_features=768, out_features=768, bias=True)\n",
       "           )\n",
       "           (ln_1): LayerNorm((768,), eps=1e-05, elementwise_affine=True)\n",
       "           (mlp): Sequential(\n",
       "             (c_fc): Linear(in_features=768, out_features=3072, bias=True)\n",
       "             (gelu): QuickGELU()\n",
       "             (c_proj): Linear(in_features=3072, out_features=768, bias=True)\n",
       "           )\n",
       "           (ln_2): LayerNorm((768,), eps=1e-05, elementwise_affine=True)\n",
       "         )\n",
       "         (4): ResidualAttentionBlock(\n",
       "           (attn): MultiheadAttention(\n",
       "             (out_proj): NonDynamicallyQuantizableLinear(in_features=768, out_features=768, bias=True)\n",
       "           )\n",
       "           (ln_1): LayerNorm((768,), eps=1e-05, elementwise_affine=True)\n",
       "           (mlp): Sequential(\n",
       "             (c_fc): Linear(in_features=768, out_features=3072, bias=True)\n",
       "             (gelu): QuickGELU()\n",
       "             (c_proj): Linear(in_features=3072, out_features=768, bias=True)\n",
       "           )\n",
       "           (ln_2): LayerNorm((768,), eps=1e-05, elementwise_affine=True)\n",
       "         )\n",
       "         (5): ResidualAttentionBlock(\n",
       "           (attn): MultiheadAttention(\n",
       "             (out_proj): NonDynamicallyQuantizableLinear(in_features=768, out_features=768, bias=True)\n",
       "           )\n",
       "           (ln_1): LayerNorm((768,), eps=1e-05, elementwise_affine=True)\n",
       "           (mlp): Sequential(\n",
       "             (c_fc): Linear(in_features=768, out_features=3072, bias=True)\n",
       "             (gelu): QuickGELU()\n",
       "             (c_proj): Linear(in_features=3072, out_features=768, bias=True)\n",
       "           )\n",
       "           (ln_2): LayerNorm((768,), eps=1e-05, elementwise_affine=True)\n",
       "         )\n",
       "         (6): ResidualAttentionBlock(\n",
       "           (attn): MultiheadAttention(\n",
       "             (out_proj): NonDynamicallyQuantizableLinear(in_features=768, out_features=768, bias=True)\n",
       "           )\n",
       "           (ln_1): LayerNorm((768,), eps=1e-05, elementwise_affine=True)\n",
       "           (mlp): Sequential(\n",
       "             (c_fc): Linear(in_features=768, out_features=3072, bias=True)\n",
       "             (gelu): QuickGELU()\n",
       "             (c_proj): Linear(in_features=3072, out_features=768, bias=True)\n",
       "           )\n",
       "           (ln_2): LayerNorm((768,), eps=1e-05, elementwise_affine=True)\n",
       "         )\n",
       "         (7): ResidualAttentionBlock(\n",
       "           (attn): MultiheadAttention(\n",
       "             (out_proj): NonDynamicallyQuantizableLinear(in_features=768, out_features=768, bias=True)\n",
       "           )\n",
       "           (ln_1): LayerNorm((768,), eps=1e-05, elementwise_affine=True)\n",
       "           (mlp): Sequential(\n",
       "             (c_fc): Linear(in_features=768, out_features=3072, bias=True)\n",
       "             (gelu): QuickGELU()\n",
       "             (c_proj): Linear(in_features=3072, out_features=768, bias=True)\n",
       "           )\n",
       "           (ln_2): LayerNorm((768,), eps=1e-05, elementwise_affine=True)\n",
       "         )\n",
       "         (8): ResidualAttentionBlock(\n",
       "           (attn): MultiheadAttention(\n",
       "             (out_proj): NonDynamicallyQuantizableLinear(in_features=768, out_features=768, bias=True)\n",
       "           )\n",
       "           (ln_1): LayerNorm((768,), eps=1e-05, elementwise_affine=True)\n",
       "           (mlp): Sequential(\n",
       "             (c_fc): Linear(in_features=768, out_features=3072, bias=True)\n",
       "             (gelu): QuickGELU()\n",
       "             (c_proj): Linear(in_features=3072, out_features=768, bias=True)\n",
       "           )\n",
       "           (ln_2): LayerNorm((768,), eps=1e-05, elementwise_affine=True)\n",
       "         )\n",
       "         (9): ResidualAttentionBlock(\n",
       "           (attn): MultiheadAttention(\n",
       "             (out_proj): NonDynamicallyQuantizableLinear(in_features=768, out_features=768, bias=True)\n",
       "           )\n",
       "           (ln_1): LayerNorm((768,), eps=1e-05, elementwise_affine=True)\n",
       "           (mlp): Sequential(\n",
       "             (c_fc): Linear(in_features=768, out_features=3072, bias=True)\n",
       "             (gelu): QuickGELU()\n",
       "             (c_proj): Linear(in_features=3072, out_features=768, bias=True)\n",
       "           )\n",
       "           (ln_2): LayerNorm((768,), eps=1e-05, elementwise_affine=True)\n",
       "         )\n",
       "         (10): ResidualAttentionBlock(\n",
       "           (attn): MultiheadAttention(\n",
       "             (out_proj): NonDynamicallyQuantizableLinear(in_features=768, out_features=768, bias=True)\n",
       "           )\n",
       "           (ln_1): LayerNorm((768,), eps=1e-05, elementwise_affine=True)\n",
       "           (mlp): Sequential(\n",
       "             (c_fc): Linear(in_features=768, out_features=3072, bias=True)\n",
       "             (gelu): QuickGELU()\n",
       "             (c_proj): Linear(in_features=3072, out_features=768, bias=True)\n",
       "           )\n",
       "           (ln_2): LayerNorm((768,), eps=1e-05, elementwise_affine=True)\n",
       "         )\n",
       "         (11): ResidualAttentionBlock(\n",
       "           (attn): MultiheadAttention(\n",
       "             (out_proj): NonDynamicallyQuantizableLinear(in_features=768, out_features=768, bias=True)\n",
       "           )\n",
       "           (ln_1): LayerNorm((768,), eps=1e-05, elementwise_affine=True)\n",
       "           (mlp): Sequential(\n",
       "             (c_fc): Linear(in_features=768, out_features=3072, bias=True)\n",
       "             (gelu): QuickGELU()\n",
       "             (c_proj): Linear(in_features=3072, out_features=768, bias=True)\n",
       "           )\n",
       "           (ln_2): LayerNorm((768,), eps=1e-05, elementwise_affine=True)\n",
       "         )\n",
       "       )\n",
       "     )\n",
       "     (ln_post): LayerNorm((768,), eps=1e-05, elementwise_affine=True)\n",
       "   )\n",
       "   (transformer): Transformer(\n",
       "     (resblocks): Sequential(\n",
       "       (0): ResidualAttentionBlock(\n",
       "         (attn): MultiheadAttention(\n",
       "           (out_proj): NonDynamicallyQuantizableLinear(in_features=512, out_features=512, bias=True)\n",
       "         )\n",
       "         (ln_1): LayerNorm((512,), eps=1e-05, elementwise_affine=True)\n",
       "         (mlp): Sequential(\n",
       "           (c_fc): Linear(in_features=512, out_features=2048, bias=True)\n",
       "           (gelu): QuickGELU()\n",
       "           (c_proj): Linear(in_features=2048, out_features=512, bias=True)\n",
       "         )\n",
       "         (ln_2): LayerNorm((512,), eps=1e-05, elementwise_affine=True)\n",
       "       )\n",
       "       (1): ResidualAttentionBlock(\n",
       "         (attn): MultiheadAttention(\n",
       "           (out_proj): NonDynamicallyQuantizableLinear(in_features=512, out_features=512, bias=True)\n",
       "         )\n",
       "         (ln_1): LayerNorm((512,), eps=1e-05, elementwise_affine=True)\n",
       "         (mlp): Sequential(\n",
       "           (c_fc): Linear(in_features=512, out_features=2048, bias=True)\n",
       "           (gelu): QuickGELU()\n",
       "           (c_proj): Linear(in_features=2048, out_features=512, bias=True)\n",
       "         )\n",
       "         (ln_2): LayerNorm((512,), eps=1e-05, elementwise_affine=True)\n",
       "       )\n",
       "       (2): ResidualAttentionBlock(\n",
       "         (attn): MultiheadAttention(\n",
       "           (out_proj): NonDynamicallyQuantizableLinear(in_features=512, out_features=512, bias=True)\n",
       "         )\n",
       "         (ln_1): LayerNorm((512,), eps=1e-05, elementwise_affine=True)\n",
       "         (mlp): Sequential(\n",
       "           (c_fc): Linear(in_features=512, out_features=2048, bias=True)\n",
       "           (gelu): QuickGELU()\n",
       "           (c_proj): Linear(in_features=2048, out_features=512, bias=True)\n",
       "         )\n",
       "         (ln_2): LayerNorm((512,), eps=1e-05, elementwise_affine=True)\n",
       "       )\n",
       "       (3): ResidualAttentionBlock(\n",
       "         (attn): MultiheadAttention(\n",
       "           (out_proj): NonDynamicallyQuantizableLinear(in_features=512, out_features=512, bias=True)\n",
       "         )\n",
       "         (ln_1): LayerNorm((512,), eps=1e-05, elementwise_affine=True)\n",
       "         (mlp): Sequential(\n",
       "           (c_fc): Linear(in_features=512, out_features=2048, bias=True)\n",
       "           (gelu): QuickGELU()\n",
       "           (c_proj): Linear(in_features=2048, out_features=512, bias=True)\n",
       "         )\n",
       "         (ln_2): LayerNorm((512,), eps=1e-05, elementwise_affine=True)\n",
       "       )\n",
       "       (4): ResidualAttentionBlock(\n",
       "         (attn): MultiheadAttention(\n",
       "           (out_proj): NonDynamicallyQuantizableLinear(in_features=512, out_features=512, bias=True)\n",
       "         )\n",
       "         (ln_1): LayerNorm((512,), eps=1e-05, elementwise_affine=True)\n",
       "         (mlp): Sequential(\n",
       "           (c_fc): Linear(in_features=512, out_features=2048, bias=True)\n",
       "           (gelu): QuickGELU()\n",
       "           (c_proj): Linear(in_features=2048, out_features=512, bias=True)\n",
       "         )\n",
       "         (ln_2): LayerNorm((512,), eps=1e-05, elementwise_affine=True)\n",
       "       )\n",
       "       (5): ResidualAttentionBlock(\n",
       "         (attn): MultiheadAttention(\n",
       "           (out_proj): NonDynamicallyQuantizableLinear(in_features=512, out_features=512, bias=True)\n",
       "         )\n",
       "         (ln_1): LayerNorm((512,), eps=1e-05, elementwise_affine=True)\n",
       "         (mlp): Sequential(\n",
       "           (c_fc): Linear(in_features=512, out_features=2048, bias=True)\n",
       "           (gelu): QuickGELU()\n",
       "           (c_proj): Linear(in_features=2048, out_features=512, bias=True)\n",
       "         )\n",
       "         (ln_2): LayerNorm((512,), eps=1e-05, elementwise_affine=True)\n",
       "       )\n",
       "       (6): ResidualAttentionBlock(\n",
       "         (attn): MultiheadAttention(\n",
       "           (out_proj): NonDynamicallyQuantizableLinear(in_features=512, out_features=512, bias=True)\n",
       "         )\n",
       "         (ln_1): LayerNorm((512,), eps=1e-05, elementwise_affine=True)\n",
       "         (mlp): Sequential(\n",
       "           (c_fc): Linear(in_features=512, out_features=2048, bias=True)\n",
       "           (gelu): QuickGELU()\n",
       "           (c_proj): Linear(in_features=2048, out_features=512, bias=True)\n",
       "         )\n",
       "         (ln_2): LayerNorm((512,), eps=1e-05, elementwise_affine=True)\n",
       "       )\n",
       "       (7): ResidualAttentionBlock(\n",
       "         (attn): MultiheadAttention(\n",
       "           (out_proj): NonDynamicallyQuantizableLinear(in_features=512, out_features=512, bias=True)\n",
       "         )\n",
       "         (ln_1): LayerNorm((512,), eps=1e-05, elementwise_affine=True)\n",
       "         (mlp): Sequential(\n",
       "           (c_fc): Linear(in_features=512, out_features=2048, bias=True)\n",
       "           (gelu): QuickGELU()\n",
       "           (c_proj): Linear(in_features=2048, out_features=512, bias=True)\n",
       "         )\n",
       "         (ln_2): LayerNorm((512,), eps=1e-05, elementwise_affine=True)\n",
       "       )\n",
       "       (8): ResidualAttentionBlock(\n",
       "         (attn): MultiheadAttention(\n",
       "           (out_proj): NonDynamicallyQuantizableLinear(in_features=512, out_features=512, bias=True)\n",
       "         )\n",
       "         (ln_1): LayerNorm((512,), eps=1e-05, elementwise_affine=True)\n",
       "         (mlp): Sequential(\n",
       "           (c_fc): Linear(in_features=512, out_features=2048, bias=True)\n",
       "           (gelu): QuickGELU()\n",
       "           (c_proj): Linear(in_features=2048, out_features=512, bias=True)\n",
       "         )\n",
       "         (ln_2): LayerNorm((512,), eps=1e-05, elementwise_affine=True)\n",
       "       )\n",
       "       (9): ResidualAttentionBlock(\n",
       "         (attn): MultiheadAttention(\n",
       "           (out_proj): NonDynamicallyQuantizableLinear(in_features=512, out_features=512, bias=True)\n",
       "         )\n",
       "         (ln_1): LayerNorm((512,), eps=1e-05, elementwise_affine=True)\n",
       "         (mlp): Sequential(\n",
       "           (c_fc): Linear(in_features=512, out_features=2048, bias=True)\n",
       "           (gelu): QuickGELU()\n",
       "           (c_proj): Linear(in_features=2048, out_features=512, bias=True)\n",
       "         )\n",
       "         (ln_2): LayerNorm((512,), eps=1e-05, elementwise_affine=True)\n",
       "       )\n",
       "       (10): ResidualAttentionBlock(\n",
       "         (attn): MultiheadAttention(\n",
       "           (out_proj): NonDynamicallyQuantizableLinear(in_features=512, out_features=512, bias=True)\n",
       "         )\n",
       "         (ln_1): LayerNorm((512,), eps=1e-05, elementwise_affine=True)\n",
       "         (mlp): Sequential(\n",
       "           (c_fc): Linear(in_features=512, out_features=2048, bias=True)\n",
       "           (gelu): QuickGELU()\n",
       "           (c_proj): Linear(in_features=2048, out_features=512, bias=True)\n",
       "         )\n",
       "         (ln_2): LayerNorm((512,), eps=1e-05, elementwise_affine=True)\n",
       "       )\n",
       "       (11): ResidualAttentionBlock(\n",
       "         (attn): MultiheadAttention(\n",
       "           (out_proj): NonDynamicallyQuantizableLinear(in_features=512, out_features=512, bias=True)\n",
       "         )\n",
       "         (ln_1): LayerNorm((512,), eps=1e-05, elementwise_affine=True)\n",
       "         (mlp): Sequential(\n",
       "           (c_fc): Linear(in_features=512, out_features=2048, bias=True)\n",
       "           (gelu): QuickGELU()\n",
       "           (c_proj): Linear(in_features=2048, out_features=512, bias=True)\n",
       "         )\n",
       "         (ln_2): LayerNorm((512,), eps=1e-05, elementwise_affine=True)\n",
       "       )\n",
       "     )\n",
       "   )\n",
       "   (token_embedding): Embedding(49408, 512)\n",
       "   (ln_final): LayerNorm((512,), eps=1e-05, elementwise_affine=True)\n",
       " )]"
      ]
     },
     "execution_count": 28,
     "metadata": {},
     "output_type": "execute_result"
    }
   ],
   "source": [
    "pytti.Perceptor.CLIP_PERCEPTORS"
   ]
  },
  {
   "cell_type": "code",
   "execution_count": 29,
   "id": "feeae290-0bb5-4887-92bd-6c6d3e5a204e",
   "metadata": {
    "execution": {
     "iopub.execute_input": "2021-11-27T17:39:25.860282Z",
     "iopub.status.busy": "2021-11-27T17:39:25.860282Z",
     "iopub.status.idle": "2021-11-27T17:39:25.875905Z",
     "shell.execute_reply": "2021-11-27T17:39:25.875905Z",
     "shell.execute_reply.started": "2021-11-27T17:39:25.860282Z"
    }
   },
   "outputs": [],
   "source": [
    "#Perceptor.free_clip()"
   ]
  },
  {
   "cell_type": "code",
   "execution_count": 30,
   "id": "65ff4bb3-764b-4c6b-ae37-01c8953db67d",
   "metadata": {
    "execution": {
     "iopub.execute_input": "2021-11-27T17:39:25.875905Z",
     "iopub.status.busy": "2021-11-27T17:39:25.875905Z",
     "iopub.status.idle": "2021-11-27T17:39:25.907154Z",
     "shell.execute_reply": "2021-11-27T17:39:25.907154Z",
     "shell.execute_reply.started": "2021-11-27T17:39:25.875905Z"
    },
    "tags": []
   },
   "outputs": [],
   "source": [
    "# oh shit... that executed?\n",
    "prompt = \"a painting of an apple\"\n",
    "out = parse_prompt(embedder=emb, prompt_string=prompt)\n",
    " # maybe?"
   ]
  },
  {
   "cell_type": "code",
   "execution_count": 31,
   "id": "e2fb5fc6-1e91-46c1-aca8-183b26c9c6c2",
   "metadata": {
    "execution": {
     "iopub.execute_input": "2021-11-27T17:39:25.907154Z",
     "iopub.status.busy": "2021-11-27T17:39:25.907154Z",
     "iopub.status.idle": "2021-11-27T17:39:25.922782Z",
     "shell.execute_reply": "2021-11-27T17:39:25.922782Z",
     "shell.execute_reply.started": "2021-11-27T17:39:25.907154Z"
    },
    "tags": []
   },
   "outputs": [
    {
     "name": "stdout",
     "output_type": "stream",
     "text": [
      "Automatic pdb calling has been turned ON\n"
     ]
    }
   ],
   "source": [
    "pdb"
   ]
  },
  {
   "cell_type": "code",
   "execution_count": 32,
   "id": "30dc1a46-70db-4dc7-84a1-c22036a79c1e",
   "metadata": {
    "execution": {
     "iopub.execute_input": "2021-11-27T17:39:25.922782Z",
     "iopub.status.busy": "2021-11-27T17:39:25.922782Z",
     "iopub.status.idle": "2021-11-27T17:39:26.016553Z",
     "shell.execute_reply": "2021-11-27T17:39:26.016553Z",
     "shell.execute_reply.started": "2021-11-27T17:39:25.922782Z"
    }
   },
   "outputs": [
    {
     "name": "stdout",
     "output_type": "stream",
     "text": [
      "Sat Nov 27 09:39:25 2021       \n",
      "+-----------------------------------------------------------------------------+\n",
      "| NVIDIA-SMI 510.06       Driver Version: 510.06       CUDA Version: 11.6     |\n",
      "|-------------------------------+----------------------+----------------------+\n",
      "| GPU  Name            TCC/WDDM | Bus-Id        Disp.A | Volatile Uncorr. ECC |\n",
      "| Fan  Temp  Perf  Pwr:Usage/Cap|         Memory-Usage | GPU-Util  Compute M. |\n",
      "|                               |                      |               MIG M. |\n",
      "|===============================+======================+======================|\n",
      "|   0  NVIDIA GeForce ... WDDM  | 00000000:01:00.0 Off |                  N/A |\n",
      "|  0%   29C    P8    15W / 350W |   2154MiB / 24576MiB |     10%      Default |\n",
      "|                               |                      |                  N/A |\n",
      "+-------------------------------+----------------------+----------------------+\n",
      "                                                                               \n",
      "+-----------------------------------------------------------------------------+\n",
      "| Processes:                                                                  |\n",
      "|  GPU   GI   CI        PID   Type   Process name                  GPU Memory |\n",
      "|        ID   ID                                                   Usage      |\n",
      "|=============================================================================|\n",
      "|    0   N/A  N/A      1492    C+G   ...bbwe\\Microsoft.Photos.exe    N/A      |\n",
      "|    0   N/A  N/A      1540    C+G   ...lPanel\\SystemSettings.exe    N/A      |\n",
      "|    0   N/A  N/A      7884    C+G   Insufficient Permissions        N/A      |\n",
      "|    0   N/A  N/A     12880    C+G   ...in7x64\\steamwebhelper.exe    N/A      |\n",
      "|    0   N/A  N/A     13644    C+G   ...ge\\Application\\msedge.exe    N/A      |\n",
      "|    0   N/A  N/A     15704    C+G   ...5n1h2txyewy\\SearchApp.exe    N/A      |\n",
      "|    0   N/A  N/A     16280    C+G   ...nputApp\\TextInputHost.exe    N/A      |\n",
      "|    0   N/A  N/A     17144    C+G   ...ekyb3d8bbwe\\YourPhone.exe    N/A      |\n",
      "|    0   N/A  N/A     17640    C+G   ...lack\\app-4.21.1\\slack.exe    N/A      |\n",
      "|    0   N/A  N/A     18584    C+G   C:\\Windows\\explorer.exe         N/A      |\n",
      "|    0   N/A  N/A     19212      C   ...3\\envs\\sandbox\\python.exe    N/A      |\n",
      "|    0   N/A  N/A     19760    C+G   ...y\\ShellExperienceHost.exe    N/A      |\n",
      "+-----------------------------------------------------------------------------+\n"
     ]
    }
   ],
   "source": [
    "!nvidia-smi"
   ]
  },
  {
   "cell_type": "code",
   "execution_count": 33,
   "id": "2df8f0b5-5865-493e-bb38-ec0072ed0c91",
   "metadata": {
    "execution": {
     "iopub.execute_input": "2021-11-27T17:39:26.016553Z",
     "iopub.status.busy": "2021-11-27T17:39:26.016553Z",
     "iopub.status.idle": "2021-11-27T17:39:26.032135Z",
     "shell.execute_reply": "2021-11-27T17:39:26.032135Z",
     "shell.execute_reply.started": "2021-11-27T17:39:26.016553Z"
    }
   },
   "outputs": [],
   "source": [
    "Perceptor.free_clip()"
   ]
  },
  {
   "cell_type": "code",
   "execution_count": 34,
   "id": "677b1bb0-e9f1-4f1b-a3b9-82b3212fce8c",
   "metadata": {
    "execution": {
     "iopub.execute_input": "2021-11-27T17:39:26.032135Z",
     "iopub.status.busy": "2021-11-27T17:39:26.032135Z",
     "iopub.status.idle": "2021-11-27T17:39:26.047864Z",
     "shell.execute_reply": "2021-11-27T17:39:26.047864Z",
     "shell.execute_reply.started": "2021-11-27T17:39:26.032135Z"
    }
   },
   "outputs": [],
   "source": [
    "pytti.Perceptor.CLIP_PERCEPTORS"
   ]
  },
  {
   "cell_type": "code",
   "execution_count": 35,
   "id": "40b1580c-e6a1-4282-959f-c33ea57bec67",
   "metadata": {
    "execution": {
     "iopub.execute_input": "2021-11-27T17:39:26.047864Z",
     "iopub.status.busy": "2021-11-27T17:39:26.047864Z",
     "iopub.status.idle": "2021-11-27T17:39:26.141531Z",
     "shell.execute_reply": "2021-11-27T17:39:26.141531Z",
     "shell.execute_reply.started": "2021-11-27T17:39:26.047864Z"
    }
   },
   "outputs": [
    {
     "name": "stdout",
     "output_type": "stream",
     "text": [
      "Sat Nov 27 09:39:26 2021       \n",
      "+-----------------------------------------------------------------------------+\n",
      "| NVIDIA-SMI 510.06       Driver Version: 510.06       CUDA Version: 11.6     |\n",
      "|-------------------------------+----------------------+----------------------+\n",
      "| GPU  Name            TCC/WDDM | Bus-Id        Disp.A | Volatile Uncorr. ECC |\n",
      "| Fan  Temp  Perf  Pwr:Usage/Cap|         Memory-Usage | GPU-Util  Compute M. |\n",
      "|                               |                      |               MIG M. |\n",
      "|===============================+======================+======================|\n",
      "|   0  NVIDIA GeForce ... WDDM  | 00000000:01:00.0 Off |                  N/A |\n",
      "|  0%   29C    P8    15W / 350W |   2154MiB / 24576MiB |     10%      Default |\n",
      "|                               |                      |                  N/A |\n",
      "+-------------------------------+----------------------+----------------------+\n",
      "                                                                               \n",
      "+-----------------------------------------------------------------------------+\n",
      "| Processes:                                                                  |\n",
      "|  GPU   GI   CI        PID   Type   Process name                  GPU Memory |\n",
      "|        ID   ID                                                   Usage      |\n",
      "|=============================================================================|\n",
      "|    0   N/A  N/A      1492    C+G   ...bbwe\\Microsoft.Photos.exe    N/A      |\n",
      "|    0   N/A  N/A      1540    C+G   ...lPanel\\SystemSettings.exe    N/A      |\n",
      "|    0   N/A  N/A      7884    C+G   Insufficient Permissions        N/A      |\n",
      "|    0   N/A  N/A     12880    C+G   ...in7x64\\steamwebhelper.exe    N/A      |\n",
      "|    0   N/A  N/A     13644    C+G   ...ge\\Application\\msedge.exe    N/A      |\n",
      "|    0   N/A  N/A     15704    C+G   ...5n1h2txyewy\\SearchApp.exe    N/A      |\n",
      "|    0   N/A  N/A     16280    C+G   ...nputApp\\TextInputHost.exe    N/A      |\n",
      "|    0   N/A  N/A     17144    C+G   ...ekyb3d8bbwe\\YourPhone.exe    N/A      |\n",
      "|    0   N/A  N/A     17640    C+G   ...lack\\app-4.21.1\\slack.exe    N/A      |\n",
      "|    0   N/A  N/A     18584    C+G   C:\\Windows\\explorer.exe         N/A      |\n",
      "|    0   N/A  N/A     19212      C   ...3\\envs\\sandbox\\python.exe    N/A      |\n",
      "|    0   N/A  N/A     19760    C+G   ...y\\ShellExperienceHost.exe    N/A      |\n",
      "+-----------------------------------------------------------------------------+\n"
     ]
    }
   ],
   "source": [
    "!nvidia-smi"
   ]
  },
  {
   "cell_type": "code",
   "execution_count": 36,
   "id": "862b3116-52d2-442f-912b-d679259ca510",
   "metadata": {
    "execution": {
     "iopub.execute_input": "2021-11-27T17:39:26.141531Z",
     "iopub.status.busy": "2021-11-27T17:39:26.141531Z",
     "iopub.status.idle": "2021-11-27T17:39:26.157230Z",
     "shell.execute_reply": "2021-11-27T17:39:26.157230Z",
     "shell.execute_reply.started": "2021-11-27T17:39:26.141531Z"
    },
    "tags": []
   },
   "outputs": [
    {
     "data": {
      "text/plain": [
       "pytti.Perceptor.Prompt.Prompt"
      ]
     },
     "execution_count": 36,
     "metadata": {},
     "output_type": "execute_result"
    }
   ],
   "source": [
    "type(out)"
   ]
  },
  {
   "cell_type": "code",
   "execution_count": 37,
   "id": "b5afdf90-57dc-43e0-bc9c-f451b38948dc",
   "metadata": {
    "execution": {
     "iopub.execute_input": "2021-11-27T17:39:26.157230Z",
     "iopub.status.busy": "2021-11-27T17:39:26.157230Z",
     "iopub.status.idle": "2021-11-27T17:39:26.172855Z",
     "shell.execute_reply": "2021-11-27T17:39:26.172855Z",
     "shell.execute_reply.started": "2021-11-27T17:39:26.157230Z"
    },
    "tags": []
   },
   "outputs": [],
   "source": [
    "#guide.run_steps(\n",
    "#    n_steps=100,\n",
    "#    #prompts=out, # prompt object is not iterable\n",
    "#    prompts=[out],\n",
    "#    # uh....\n",
    "#    interp_prompts=None, # interpolation?\n",
    "#    loss_augs=None # this can't be None\n",
    "#)\n",
    "# run_steps(\n",
    "#  n_steps, prompts, interp_prompts, loss_augs, \n",
    "#  stop=-inf, interp_steps=0, i_offset=0, skipped_steps=0)\n",
    "\n",
    "# guessing this is gonna break, but let's see what happens\n",
    "# oh neat, it killed CUDA. That's probably why the mechanisms for releasing models are there\n",
    "# Try releasing CLIP (and only loading one VQGAN model)"
   ]
  },
  {
   "cell_type": "code",
   "execution_count": 38,
   "id": "7dcdbb07-3caf-45e9-8483-2a3521f5c26a",
   "metadata": {
    "execution": {
     "iopub.execute_input": "2021-11-27T17:39:26.172855Z",
     "iopub.status.busy": "2021-11-27T17:39:26.172855Z",
     "iopub.status.idle": "2021-11-27T17:39:26.313742Z",
     "shell.execute_reply": "2021-11-27T17:39:26.313742Z",
     "shell.execute_reply.started": "2021-11-27T17:39:26.172855Z"
    },
    "tags": []
   },
   "outputs": [],
   "source": [
    "#mse_loss = MSELoss()\n",
    "# comp dimensions should map to image shape\n",
    "# guessing this is lifted/inspired by dribnet/pixray's loss interface\n",
    "# https://github.com/dribnet/pixray\n",
    "\n",
    "# Let's try a loss function that doesn't have the 'comp' argument...\n",
    "from pytti.LossAug import TVLoss\n",
    "loss_augs = [TVLoss()]\n",
    "\n",
    "# This is almost surely what pytti.build_loss is for\n",
    "# - build_loss(weight_name, weight, name, img, pil_target)\n",
    "#    - oof, no defaults.\n",
    "#    - start with weight_name='direct'\n",
    "#    - img is the VQGANImage object (nb: get_preferred_loss method)\n",
    "#    * pil_target\n",
    "#      - PIL.Image object\n",
    "#      - if not provided, tries to open image using text from prompt string\n",
    "#      - output image?"
   ]
  },
  {
   "cell_type": "code",
   "execution_count": 39,
   "id": "36f29d42-346a-4663-9d0e-5c203b18e066",
   "metadata": {
    "execution": {
     "iopub.execute_input": "2021-11-27T17:39:26.313742Z",
     "iopub.status.busy": "2021-11-27T17:39:26.313742Z",
     "iopub.status.idle": "2021-11-27T17:39:49.412522Z",
     "shell.execute_reply": "2021-11-27T17:39:49.412522Z",
     "shell.execute_reply.started": "2021-11-27T17:39:26.313742Z"
    },
    "tags": []
   },
   "outputs": [
    {
     "data": {
      "application/vnd.jupyter.widget-view+json": {
       "model_id": "bc203bea2624441085aace9cc5b994e4",
       "version_major": 2,
       "version_minor": 0
      },
      "text/plain": [
       "  0%|          | 0/100 [00:00<?, ?it/s]"
      ]
     },
     "metadata": {},
     "output_type": "display_data"
    },
    {
     "name": "stderr",
     "output_type": "stream",
     "text": [
      "C:\\Users\\shagg\\anaconda3\\envs\\sandbox\\lib\\site-packages\\kornia\\utils\\helpers.py:94: UserWarning: torch.solve is deprecated in favor of torch.linalg.solveand will be removed in a future PyTorch release.\n",
      "torch.linalg.solve has its arguments reversed and does not return the LU factorization.\n",
      "To get the LU factorization see torch.lu, which can be used with torch.lu_solve or torch.lu_unpack.\n",
      "X = torch.solve(B, A).solution\n",
      "should be replaced with\n",
      "X = torch.linalg.solve(A, B) (Triggered internally at  ..\\aten\\src\\ATen\\native\\BatchLinearAlgebra.cpp:760.)\n",
      "  out1, out2 = torch.solve(input.to(dtype), A.to(dtype))\n"
     ]
    },
    {
     "data": {
      "text/plain": [
       "100"
      ]
     },
     "execution_count": 39,
     "metadata": {},
     "output_type": "execute_result"
    }
   ],
   "source": [
    "from pytti.LossAug import MSELoss\n",
    "#loss_augs = [MSELoss]\n",
    "# pretty sure this needs to be an instance rather than a type.\n",
    "# Loss has required init parameters...hmmm....\n",
    "# time to get hacky!\n",
    "\n",
    "\n",
    "guide.run_steps(\n",
    "    n_steps=100,\n",
    "    #prompts=out, # prompt object is not iterable\n",
    "    prompts=[out],\n",
    "    # uh....\n",
    "    interp_prompts=None, # interpolation?\n",
    "    loss_augs=loss_augs #None # this can't be None\n",
    ")\n",
    "\n",
    "# Getting that \"can't find import infer from Inference\" thing\n",
    "# AdaBins, right? Should probably just install AdaBins.\n",
    "\n",
    "# blocking import of DepthLoss in:\n",
    "# * pytti.LossAug.__init__\n",
    "# * pytti.Transforms\n",
    "\n",
    "# blocking from inference import infer - unused!\n",
    "# * pytti.Transforms \n",
    "\n",
    "# Blocking import of apply_flow -  pytti.Transforms import apply_flow\n",
    "# * pytti.LossAug.OpticalFlowLoss\n",
    "# * \n",
    "\n",
    "##########\n",
    "# format_input throwing errors\n",
    "# * source - VQGANImage - possibly correct\n",
    "# * dest - MSELoss - definitely not correct. should prob be prompt?\n",
    "\n",
    "# * differentiable image has output_axes\n",
    "# Prompt has input_axes\n",
    "# Loss has input_axes\n",
    "\n",
    "# OH SHIT IT\"S RUNNING!!!!!"
   ]
  },
  {
   "cell_type": "code",
   "execution_count": 40,
   "id": "579134da-63cc-41e8-8f9e-1b61dde4cde1",
   "metadata": {
    "execution": {
     "iopub.execute_input": "2021-11-27T17:39:49.412522Z",
     "iopub.status.busy": "2021-11-27T17:39:49.412522Z",
     "iopub.status.idle": "2021-11-27T17:39:49.494510Z",
     "shell.execute_reply": "2021-11-27T17:39:49.494510Z",
     "shell.execute_reply.started": "2021-11-27T17:39:49.412522Z"
    },
    "tags": []
   },
   "outputs": [
    {
     "name": "stdout",
     "output_type": "stream",
     "text": [
      "Sat Nov 27 09:39:49 2021       \n",
      "+-----------------------------------------------------------------------------+\n",
      "| NVIDIA-SMI 510.06       Driver Version: 510.06       CUDA Version: 11.6     |\n",
      "|-------------------------------+----------------------+----------------------+\n",
      "| GPU  Name            TCC/WDDM | Bus-Id        Disp.A | Volatile Uncorr. ECC |\n",
      "| Fan  Temp  Perf  Pwr:Usage/Cap|         Memory-Usage | GPU-Util  Compute M. |\n",
      "|                               |                      |               MIG M. |\n",
      "|===============================+======================+======================|\n",
      "|   0  NVIDIA GeForce ... WDDM  | 00000000:01:00.0 Off |                  N/A |\n",
      "|  0%   48C    P2   272W / 350W |   9208MiB / 24576MiB |     69%      Default |\n",
      "|                               |                      |                  N/A |\n",
      "+-------------------------------+----------------------+----------------------+\n",
      "                                                                               \n",
      "+-----------------------------------------------------------------------------+\n",
      "| Processes:                                                                  |\n",
      "|  GPU   GI   CI        PID   Type   Process name                  GPU Memory |\n",
      "|        ID   ID                                                   Usage      |\n",
      "|=============================================================================|\n",
      "|    0   N/A  N/A      1492    C+G   ...bbwe\\Microsoft.Photos.exe    N/A      |\n",
      "|    0   N/A  N/A      1540    C+G   ...lPanel\\SystemSettings.exe    N/A      |\n",
      "|    0   N/A  N/A      7884    C+G   Insufficient Permissions        N/A      |\n",
      "|    0   N/A  N/A     12880    C+G   ...in7x64\\steamwebhelper.exe    N/A      |\n",
      "|    0   N/A  N/A     13644    C+G   ...ge\\Application\\msedge.exe    N/A      |\n",
      "|    0   N/A  N/A     15704    C+G   ...5n1h2txyewy\\SearchApp.exe    N/A      |\n",
      "|    0   N/A  N/A     16280    C+G   ...nputApp\\TextInputHost.exe    N/A      |\n",
      "|    0   N/A  N/A     17144    C+G   ...ekyb3d8bbwe\\YourPhone.exe    N/A      |\n",
      "|    0   N/A  N/A     17640    C+G   ...lack\\app-4.21.1\\slack.exe    N/A      |\n",
      "|    0   N/A  N/A     18584    C+G   C:\\Windows\\explorer.exe         N/A      |\n",
      "|    0   N/A  N/A     19212      C   ...3\\envs\\sandbox\\python.exe    N/A      |\n",
      "|    0   N/A  N/A     19760    C+G   ...y\\ShellExperienceHost.exe    N/A      |\n",
      "+-----------------------------------------------------------------------------+\n"
     ]
    }
   ],
   "source": [
    "!nvidia-smi"
   ]
  },
  {
   "cell_type": "code",
   "execution_count": 41,
   "id": "3126dbe5-bb2a-4dce-af94-62f6691a4169",
   "metadata": {
    "execution": {
     "iopub.execute_input": "2021-11-27T17:39:49.494510Z",
     "iopub.status.busy": "2021-11-27T17:39:49.494510Z",
     "iopub.status.idle": "2021-11-27T17:39:49.572627Z",
     "shell.execute_reply": "2021-11-27T17:39:49.572627Z",
     "shell.execute_reply.started": "2021-11-27T17:39:49.494510Z"
    },
    "tags": []
   },
   "outputs": [],
   "source": [
    "import torch\n",
    "torch.cuda.empty_cache()"
   ]
  },
  {
   "cell_type": "code",
   "execution_count": 42,
   "id": "49d3fbbd-0dff-470d-9670-f4c0b5b1726c",
   "metadata": {
    "execution": {
     "iopub.execute_input": "2021-11-27T17:39:49.572627Z",
     "iopub.status.busy": "2021-11-27T17:39:49.572627Z",
     "iopub.status.idle": "2021-11-27T17:39:49.661057Z",
     "shell.execute_reply": "2021-11-27T17:39:49.661057Z",
     "shell.execute_reply.started": "2021-11-27T17:39:49.572627Z"
    },
    "tags": []
   },
   "outputs": [
    {
     "name": "stdout",
     "output_type": "stream",
     "text": [
      "Sat Nov 27 09:39:49 2021       \n",
      "+-----------------------------------------------------------------------------+\n",
      "| NVIDIA-SMI 510.06       Driver Version: 510.06       CUDA Version: 11.6     |\n",
      "|-------------------------------+----------------------+----------------------+\n",
      "| GPU  Name            TCC/WDDM | Bus-Id        Disp.A | Volatile Uncorr. ECC |\n",
      "| Fan  Temp  Perf  Pwr:Usage/Cap|         Memory-Usage | GPU-Util  Compute M. |\n",
      "|                               |                      |               MIG M. |\n",
      "|===============================+======================+======================|\n",
      "|   0  NVIDIA GeForce ... WDDM  | 00000000:01:00.0 Off |                  N/A |\n",
      "|  0%   48C    P2   257W / 350W |   3112MiB / 24576MiB |     69%      Default |\n",
      "|                               |                      |                  N/A |\n",
      "+-------------------------------+----------------------+----------------------+\n",
      "                                                                               \n",
      "+-----------------------------------------------------------------------------+\n",
      "| Processes:                                                                  |\n",
      "|  GPU   GI   CI        PID   Type   Process name                  GPU Memory |\n",
      "|        ID   ID                                                   Usage      |\n",
      "|=============================================================================|\n",
      "|    0   N/A  N/A      1492    C+G   ...bbwe\\Microsoft.Photos.exe    N/A      |\n",
      "|    0   N/A  N/A      1540    C+G   ...lPanel\\SystemSettings.exe    N/A      |\n",
      "|    0   N/A  N/A      7884    C+G   Insufficient Permissions        N/A      |\n",
      "|    0   N/A  N/A     12880    C+G   ...in7x64\\steamwebhelper.exe    N/A      |\n",
      "|    0   N/A  N/A     13644    C+G   ...ge\\Application\\msedge.exe    N/A      |\n",
      "|    0   N/A  N/A     15704    C+G   ...5n1h2txyewy\\SearchApp.exe    N/A      |\n",
      "|    0   N/A  N/A     16280    C+G   ...nputApp\\TextInputHost.exe    N/A      |\n",
      "|    0   N/A  N/A     17144    C+G   ...ekyb3d8bbwe\\YourPhone.exe    N/A      |\n",
      "|    0   N/A  N/A     17640    C+G   ...lack\\app-4.21.1\\slack.exe    N/A      |\n",
      "|    0   N/A  N/A     18584    C+G   C:\\Windows\\explorer.exe         N/A      |\n",
      "|    0   N/A  N/A     19212      C   ...3\\envs\\sandbox\\python.exe    N/A      |\n",
      "|    0   N/A  N/A     19760    C+G   ...y\\ShellExperienceHost.exe    N/A      |\n",
      "+-----------------------------------------------------------------------------+\n"
     ]
    }
   ],
   "source": [
    "!nvidia-smi"
   ]
  },
  {
   "cell_type": "code",
   "execution_count": 43,
   "id": "6e52e8c3-c730-4cff-a7e3-4352596545ae",
   "metadata": {
    "execution": {
     "iopub.execute_input": "2021-11-27T17:39:49.661057Z",
     "iopub.status.busy": "2021-11-27T17:39:49.661057Z",
     "iopub.status.idle": "2021-11-27T17:39:49.811968Z",
     "shell.execute_reply": "2021-11-27T17:39:49.811968Z",
     "shell.execute_reply.started": "2021-11-27T17:39:49.661057Z"
    },
    "tags": []
   },
   "outputs": [
    {
     "data": {
      "text/plain": [
       "True"
      ]
     },
     "execution_count": 43,
     "metadata": {},
     "output_type": "execute_result"
    },
    {
     "data": {
      "image/png": "[encoded data removed]",
      "text/plain": [
       "<Figure size 432x288 with 1 Axes>"
      ]
     },
     "metadata": {
      "needs_background": "light"
     },
     "output_type": "display_data"
    }
   ],
   "source": [
    "import matplotlib.pyplot as plt\n",
    "\n",
    "fig, ax = plt.subplots()\n",
    "guide.plot_losses([ax])\n",
    "# neat"
   ]
  },
  {
   "cell_type": "code",
   "execution_count": 44,
   "id": "6ac97d1e-8867-4107-bded-6982d71bebac",
   "metadata": {
    "execution": {
     "iopub.execute_input": "2021-11-27T17:39:49.811968Z",
     "iopub.status.busy": "2021-11-27T17:39:49.811968Z",
     "iopub.status.idle": "2021-11-27T17:39:49.827593Z",
     "shell.execute_reply": "2021-11-27T17:39:49.827593Z",
     "shell.execute_reply.started": "2021-11-27T17:39:49.811968Z"
    },
    "tags": []
   },
   "outputs": [
    {
     "data": {
      "text/plain": [
       "[Index(['a painting of an apple'], dtype='object'),\n",
       " Index(['smoothing loss (TV)'], dtype='object'),\n",
       " Index([], dtype='object'),\n",
       " Index(['TOTAL'], dtype='object')]"
      ]
     },
     "execution_count": 44,
     "metadata": {},
     "output_type": "execute_result"
    }
   ],
   "source": [
    "#guide.dataframe # list of dfs for each ...loss?\n",
    "len(guide.dataframe) # 4\n",
    "[d.columns for d in guide.dataframe]"
   ]
  },
  {
   "cell_type": "code",
   "execution_count": 60,
   "id": "5ce48611-f045-4b66-a5db-75e110bc4587",
   "metadata": {
    "execution": {
     "iopub.execute_input": "2021-11-27T17:44:59.870552Z",
     "iopub.status.busy": "2021-11-27T17:44:59.870552Z",
     "iopub.status.idle": "2021-11-27T17:45:00.177370Z",
     "shell.execute_reply": "2021-11-27T17:45:00.177370Z",
     "shell.execute_reply.started": "2021-11-27T17:44:59.870552Z"
    },
    "tags": []
   },
   "outputs": [
    {
     "data": {
      "text/plain": [
       "True"
      ]
     },
     "execution_count": 60,
     "metadata": {},
     "output_type": "execute_result"
    },
    {
     "data": {
      "image/png": "[encoded data removed]",
      "text/plain": [
       "<Figure size 432x288 with 4 Axes>"
      ]
     },
     "metadata": {
      "needs_background": "light"
     },
     "output_type": "display_data"
    }
   ],
   "source": [
    "fig, axs = plt.subplots(2,2)\n",
    "axs = axs[0,0], axs[0,1], axs[1,0], axs[1,1]\n",
    "guide.plot_losses(axs) # overwrites rather than appending\n",
    "# weird, but it ain't nothing I guess...\n",
    "# this looks like a job for a lightning logger."
   ]
  },
  {
   "cell_type": "code",
   "execution_count": null,
   "id": "8dab7a2b-e2a9-4569-9a59-002e57136459",
   "metadata": {},
   "outputs": [],
   "source": [
    "# Maybe this is where pytti.make_hbox comes in?"
   ]
  },
  {
   "cell_type": "code",
   "execution_count": 63,
   "id": "1a991b2a-679b-450e-8b41-eeda2836c0ca",
   "metadata": {
    "execution": {
     "iopub.execute_input": "2021-11-27T17:46:19.266546Z",
     "iopub.status.busy": "2021-11-27T17:46:19.266546Z",
     "iopub.status.idle": "2021-11-27T17:46:19.307246Z",
     "shell.execute_reply": "2021-11-27T17:46:19.307246Z",
     "shell.execute_reply.started": "2021-11-27T17:46:19.266546Z"
    },
    "tags": []
   },
   "outputs": [
    {
     "data": {
      "text/plain": [
       "['T_destination',\n",
       " '__annotations__',\n",
       " '__call__',\n",
       " '__class__',\n",
       " '__delattr__',\n",
       " '__dict__',\n",
       " '__dir__',\n",
       " '__doc__',\n",
       " '__eq__',\n",
       " '__format__',\n",
       " '__ge__',\n",
       " '__getattr__',\n",
       " '__getattribute__',\n",
       " '__gt__',\n",
       " '__hash__',\n",
       " '__init__',\n",
       " '__init_subclass__',\n",
       " '__le__',\n",
       " '__lt__',\n",
       " '__module__',\n",
       " '__ne__',\n",
       " '__new__',\n",
       " '__reduce__',\n",
       " '__reduce_ex__',\n",
       " '__repr__',\n",
       " '__setattr__',\n",
       " '__setstate__',\n",
       " '__sizeof__',\n",
       " '__str__',\n",
       " '__subclasshook__',\n",
       " '__weakref__',\n",
       " '_apply',\n",
       " '_backward_hooks',\n",
       " '_buffers',\n",
       " '_call_impl',\n",
       " '_forward_hooks',\n",
       " '_forward_pre_hooks',\n",
       " '_get_backward_hooks',\n",
       " '_get_name',\n",
       " '_is_full_backward_hook',\n",
       " '_load_from_state_dict',\n",
       " '_load_state_dict_pre_hooks',\n",
       " '_maybe_warn_non_full_backward_hook',\n",
       " '_modules',\n",
       " '_named_members',\n",
       " '_non_persistent_buffers_set',\n",
       " '_parameters',\n",
       " '_register_load_state_dict_pre_hook',\n",
       " '_register_state_dict_hook',\n",
       " '_replicate_for_data_parallel',\n",
       " '_save_to_state_dict',\n",
       " '_slow_forward',\n",
       " '_state_dict_hooks',\n",
       " '_version',\n",
       " 'accum',\n",
       " 'add_module',\n",
       " 'apply',\n",
       " 'average',\n",
       " 'bfloat16',\n",
       " 'biased',\n",
       " 'buffers',\n",
       " 'children',\n",
       " 'clone',\n",
       " 'cpu',\n",
       " 'cuda',\n",
       " 'decay',\n",
       " 'decode',\n",
       " 'decode_image',\n",
       " 'decode_tensor',\n",
       " 'decode_training_tensor',\n",
       " 'double',\n",
       " 'dump_patches',\n",
       " 'e_dim',\n",
       " 'encode_image',\n",
       " 'encode_random',\n",
       " 'eval',\n",
       " 'extra_repr',\n",
       " 'float',\n",
       " 'forward',\n",
       " 'free_vqgan',\n",
       " 'get_buffer',\n",
       " 'get_image_tensor',\n",
       " 'get_latent_tensor',\n",
       " 'get_parameter',\n",
       " 'get_preferred_loss',\n",
       " 'get_submodule',\n",
       " 'half',\n",
       " 'image_loss',\n",
       " 'image_shape',\n",
       " 'init_vqgan',\n",
       " 'latent_strength',\n",
       " 'load_state_dict',\n",
       " 'lr',\n",
       " 'make_latent',\n",
       " 'modules',\n",
       " 'n_toks',\n",
       " 'named_buffers',\n",
       " 'named_children',\n",
       " 'named_modules',\n",
       " 'named_parameters',\n",
       " 'output_axes',\n",
       " 'parameters',\n",
       " 'pixel_format',\n",
       " 'rand_latent',\n",
       " 'register_backward_hook',\n",
       " 'register_buffer',\n",
       " 'register_forward_hook',\n",
       " 'register_forward_pre_hook',\n",
       " 'register_full_backward_hook',\n",
       " 'register_parameter',\n",
       " 'requires_grad_',\n",
       " 'reset',\n",
       " 'set_image_tensor',\n",
       " 'share_memory',\n",
       " 'state_dict',\n",
       " 'tensor',\n",
       " 'to',\n",
       " 'to_empty',\n",
       " 'toksX',\n",
       " 'toksY',\n",
       " 'train',\n",
       " 'training',\n",
       " 'type',\n",
       " 'update',\n",
       " 'vqgan_decode',\n",
       " 'vqgan_encode',\n",
       " 'vqgan_quantize_embedding',\n",
       " 'xpu',\n",
       " 'zero_grad']"
      ]
     },
     "execution_count": 63,
     "metadata": {},
     "output_type": "execute_result"
    }
   ],
   "source": [
    "dir(guide.image_rep)"
   ]
  },
  {
   "cell_type": "code",
   "execution_count": 47,
   "id": "00996ecc-bf66-42cc-ab39-1dd41bdec241",
   "metadata": {
    "execution": {
     "iopub.execute_input": "2021-11-27T17:39:50.046276Z",
     "iopub.status.busy": "2021-11-27T17:39:50.046276Z",
     "iopub.status.idle": "2021-11-27T17:39:50.061883Z",
     "shell.execute_reply": "2021-11-27T17:39:50.061883Z",
     "shell.execute_reply.started": "2021-11-27T17:39:50.046276Z"
    },
    "tags": []
   },
   "outputs": [],
   "source": [
    "# so... where's my output?"
   ]
  },
  {
   "cell_type": "code",
   "execution_count": 74,
   "id": "26b64790-a551-4519-9921-21140f209f41",
   "metadata": {
    "execution": {
     "iopub.execute_input": "2021-11-27T18:10:42.742879Z",
     "iopub.status.busy": "2021-11-27T18:10:42.742879Z",
     "iopub.status.idle": "2021-11-27T18:10:42.972297Z",
     "shell.execute_reply": "2021-11-27T18:10:42.972297Z",
     "shell.execute_reply.started": "2021-11-27T18:10:42.742879Z"
    },
    "tags": []
   },
   "outputs": [
    {
     "data": {
      "image/png": "[encoded data removed]",
      "text/plain": [
       "<PIL.Image.Image image mode=RGB size=192x192 at 0x213C8F54CD0>"
      ]
     },
     "execution_count": 74,
     "metadata": {},
     "output_type": "execute_result"
    }
   ],
   "source": [
    "#dir(guide)\n",
    "#dir(guide.image_rep)\n",
    "#guide.image_rep.get_image_tensor() # not implemented\n",
    "guide.image_rep.decode_image() # there we go"
   ]
  }
 ],
 "metadata": {
  "kernelspec": {
   "display_name": "Python 3 (ipykernel)",
   "language": "python",
   "name": "python3"
  },
  "language_info": {
   "codemirror_mode": {
    "name": "ipython",
    "version": 3
   },
   "file_extension": ".py",
   "mimetype": "text/x-python",
   "name": "python",
   "nbconvert_exporter": "python",
   "pygments_lexer": "ipython3",
   "version": "3.9.7"
  },
  "widgets": {
   "application/vnd.jupyter.widget-state+json": {
    "state": {
     "0dba1be70549483a9a56a974dd5fb8ff": {
      "model_module": "@jupyter-widgets/controls",
      "model_module_version": "1.5.0",
      "model_name": "ProgressStyleModel",
      "state": {
       "description_width": ""
      }
     },
     "133fc499712a49a28a92da223e39b18f": {
      "model_module": "@jupyter-widgets/controls",
      "model_module_version": "1.5.0",
      "model_name": "DescriptionStyleModel",
      "state": {
       "description_width": ""
      }
     },
     "1658e9ee10094133b3b33468d1593112": {
      "model_module": "@jupyter-widgets/base",
      "model_module_version": "1.2.0",
      "model_name": "LayoutModel",
      "state": {}
     },
     "2f70977167864108b85a1a00db970f86": {
      "model_module": "@jupyter-widgets/controls",
      "model_module_version": "1.5.0",
      "model_name": "HTMLModel",
      "state": {
       "layout": "IPY_MODEL_50b6b5ca4ad047148b4eaceb82a7c1b8",
       "style": "IPY_MODEL_133fc499712a49a28a92da223e39b18f",
       "value": "100%"
      }
     },
     "3d4ce0c6e9d3469eb9a91a344263751e": {
      "model_module": "@jupyter-widgets/controls",
      "model_module_version": "1.5.0",
      "model_name": "FloatProgressModel",
      "state": {
       "bar_style": "success",
       "layout": "IPY_MODEL_4c7153328c794f86919b9dad000db892",
       "style": "IPY_MODEL_0dba1be70549483a9a56a974dd5fb8ff",
       "value": 100
      }
     },
     "4c7153328c794f86919b9dad000db892": {
      "model_module": "@jupyter-widgets/base",
      "model_module_version": "1.2.0",
      "model_name": "LayoutModel",
      "state": {}
     },
     "50b6b5ca4ad047148b4eaceb82a7c1b8": {
      "model_module": "@jupyter-widgets/base",
      "model_module_version": "1.2.0",
      "model_name": "LayoutModel",
      "state": {}
     },
     "627bd60d216e474795bca424d38a8522": {
      "model_module": "@jupyter-widgets/controls",
      "model_module_version": "1.5.0",
      "model_name": "DescriptionStyleModel",
      "state": {
       "description_width": ""
      }
     },
     "8aaab6d1a215456389a08be24358a0ff": {
      "model_module": "@jupyter-widgets/controls",
      "model_module_version": "1.5.0",
      "model_name": "HTMLModel",
      "state": {
       "layout": "IPY_MODEL_1658e9ee10094133b3b33468d1593112",
       "style": "IPY_MODEL_627bd60d216e474795bca424d38a8522",
       "value": " 100/100 [00:23&lt;00:00,  4.88it/s]"
      }
     },
     "9bccdbb8173d47bf8e36779afc51094a": {
      "model_module": "@jupyter-widgets/base",
      "model_module_version": "1.2.0",
      "model_name": "LayoutModel",
      "state": {}
     },
     "bc203bea2624441085aace9cc5b994e4": {
      "model_module": "@jupyter-widgets/controls",
      "model_module_version": "1.5.0",
      "model_name": "HBoxModel",
      "state": {
       "children": [
        "IPY_MODEL_2f70977167864108b85a1a00db970f86",
        "IPY_MODEL_3d4ce0c6e9d3469eb9a91a344263751e",
        "IPY_MODEL_8aaab6d1a215456389a08be24358a0ff"
       ],
       "layout": "IPY_MODEL_9bccdbb8173d47bf8e36779afc51094a"
      }
     }
    },
    "version_major": 2,
    "version_minor": 0
   }
  }
 },
 "nbformat": 4,
 "nbformat_minor": 5
}
