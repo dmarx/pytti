{
 "cells": [
  {
   "cell_type": "code",
   "execution_count": 1,
   "id": "97de6421-3b36-4ef0-8ec4-182f2f215507",
   "metadata": {
    "execution": {
     "iopub.execute_input": "2021-11-27T16:35:45.368907Z",
     "iopub.status.busy": "2021-11-27T16:35:45.368907Z",
     "iopub.status.idle": "2021-11-27T16:35:45.396583Z",
     "shell.execute_reply": "2021-11-27T16:35:45.396583Z",
     "shell.execute_reply.started": "2021-11-27T16:35:45.368907Z"
    },
    "tags": []
   },
   "outputs": [],
   "source": [
    "# missing requirements:\n",
    "# !pip install PyGLM\n",
    "#!pip install matplotlib-label-lines\n",
    "# AdaBins\n",
    "# labelLines seems like a silly, unnecessary dependency. But whatever.\n",
    "#No module named 'CLIP'\n",
    "#prob need taming transformers too?\n",
    "# model git clone operations after: https://colab.research.google.com/drive/1iLdYrjtEYLDs_KpLbZOUEVlZpEgY3E8b#scrollTo=wSfISAhyPmyp\n",
    "#! git clone https://github.com/openai/CLIP.git # uh... it's already there?"
   ]
  },
  {
   "cell_type": "code",
   "execution_count": 2,
   "id": "364a6f9f-032e-42ec-8428-5310c57fedb3",
   "metadata": {
    "execution": {
     "iopub.execute_input": "2021-11-27T16:35:45.396583Z",
     "iopub.status.busy": "2021-11-27T16:35:45.396583Z",
     "iopub.status.idle": "2021-11-27T16:35:45.506075Z",
     "shell.execute_reply": "2021-11-27T16:35:45.506075Z",
     "shell.execute_reply.started": "2021-11-27T16:35:45.396583Z"
    }
   },
   "outputs": [
    {
     "name": "stdout",
     "output_type": "stream",
     "text": [
      "Sat Nov 27 08:35:45 2021       \n",
      "+-----------------------------------------------------------------------------+\n",
      "| NVIDIA-SMI 510.06       Driver Version: 510.06       CUDA Version: 11.6     |\n",
      "|-------------------------------+----------------------+----------------------+\n",
      "| GPU  Name            TCC/WDDM | Bus-Id        Disp.A | Volatile Uncorr. ECC |\n",
      "| Fan  Temp  Perf  Pwr:Usage/Cap|         Memory-Usage | GPU-Util  Compute M. |\n",
      "|                               |                      |               MIG M. |\n",
      "|===============================+======================+======================|\n",
      "|   0  NVIDIA GeForce ... WDDM  | 00000000:01:00.0 Off |                  N/A |\n",
      "|  0%   27C    P8     7W / 350W |    409MiB / 24576MiB |      0%      Default |\n",
      "|                               |                      |                  N/A |\n",
      "+-------------------------------+----------------------+----------------------+\n",
      "                                                                               \n",
      "+-----------------------------------------------------------------------------+\n",
      "| Processes:                                                                  |\n",
      "|  GPU   GI   CI        PID   Type   Process name                  GPU Memory |\n",
      "|        ID   ID                                                   Usage      |\n",
      "|=============================================================================|\n",
      "|    0   N/A  N/A      1492    C+G   ...bbwe\\Microsoft.Photos.exe    N/A      |\n",
      "|    0   N/A  N/A      1540    C+G   ...lPanel\\SystemSettings.exe    N/A      |\n",
      "|    0   N/A  N/A      7884    C+G   Insufficient Permissions        N/A      |\n",
      "|    0   N/A  N/A     12880    C+G   ...in7x64\\steamwebhelper.exe    N/A      |\n",
      "|    0   N/A  N/A     13644    C+G   ...ge\\Application\\msedge.exe    N/A      |\n",
      "|    0   N/A  N/A     15704    C+G   ...5n1h2txyewy\\SearchApp.exe    N/A      |\n",
      "|    0   N/A  N/A     16280    C+G   ...nputApp\\TextInputHost.exe    N/A      |\n",
      "|    0   N/A  N/A     17144    C+G   ...ekyb3d8bbwe\\YourPhone.exe    N/A      |\n",
      "|    0   N/A  N/A     17640    C+G   ...lack\\app-4.21.1\\slack.exe    N/A      |\n",
      "|    0   N/A  N/A     18584    C+G   C:\\Windows\\explorer.exe         N/A      |\n",
      "|    0   N/A  N/A     19760    C+G   ...y\\ShellExperienceHost.exe    N/A      |\n",
      "+-----------------------------------------------------------------------------+\n"
     ]
    }
   ],
   "source": [
    "!nvidia-smi"
   ]
  },
  {
   "cell_type": "code",
   "execution_count": 3,
   "id": "e8614030-134f-4d9c-a7be-48d09995f8ff",
   "metadata": {
    "execution": {
     "iopub.execute_input": "2021-11-27T16:35:45.506075Z",
     "iopub.status.busy": "2021-11-27T16:35:45.506075Z",
     "iopub.status.idle": "2021-11-27T16:35:46.175642Z",
     "shell.execute_reply": "2021-11-27T16:35:46.175642Z",
     "shell.execute_reply.started": "2021-11-27T16:35:45.506075Z"
    },
    "tags": []
   },
   "outputs": [],
   "source": [
    "import torch.nn as nn"
   ]
  },
  {
   "cell_type": "code",
   "execution_count": 4,
   "id": "d27c6f7f-daf4-45b8-80cf-aa2b286cb1cf",
   "metadata": {
    "execution": {
     "iopub.execute_input": "2021-11-27T16:35:46.175642Z",
     "iopub.status.busy": "2021-11-27T16:35:46.175642Z",
     "iopub.status.idle": "2021-11-27T16:35:46.675635Z",
     "shell.execute_reply": "2021-11-27T16:35:46.675635Z",
     "shell.execute_reply.started": "2021-11-27T16:35:46.175642Z"
    },
    "tags": []
   },
   "outputs": [],
   "source": [
    "import pytti\n",
    "#import pytti.Image"
   ]
  },
  {
   "cell_type": "code",
   "execution_count": 5,
   "id": "d4527cb3-44c3-4fb1-839f-1d007a37cb1b",
   "metadata": {
    "execution": {
     "iopub.execute_input": "2021-11-27T16:35:46.675635Z",
     "iopub.status.busy": "2021-11-27T16:35:46.675635Z",
     "iopub.status.idle": "2021-11-27T16:35:46.695710Z",
     "shell.execute_reply": "2021-11-27T16:35:46.695710Z",
     "shell.execute_reply.started": "2021-11-27T16:35:46.675635Z"
    }
   },
   "outputs": [],
   "source": [
    "# No module named 'glm' \n",
    "# invoked in pytti.Transforms, which exports apply_flow into OpticalFlowLoss\n",
    "# Looks like this is PyGLM, interface to OpenGL Math library\n",
    "# https://github.com/g-truc/glm\n",
    "# https://github.com/Zuzu-Typ/PyGLM ### SECRET SAUCE ALERT\n",
    "#\n",
    "# !pip install PyGLM\n",
    "#\n",
    "# yup that fixed it\n",
    "\n",
    "##############################\n",
    "#\\proj\\pytti\\LossAug\\DepthLoss.py in <module>\n",
    "#from infer import InferenceHelper\n",
    "#ModuleNotFoundError: No module named 'infer'\n",
    "#\n",
    "# Maybe something to do with AdaBins?\n",
    "# https://github.com/shariqfarooq123/AdaBins/issues/7\n",
    "#\n",
    "# Yeah, for sure an AdaBins thing. Let's deal with that later. \n",
    "# Pivot to explicit imports from Image rather than importing whole module.\n",
    "# Should let me keep moving forward?"
   ]
  },
  {
   "cell_type": "code",
   "execution_count": 6,
   "id": "e53a2362-c43e-4f73-8a07-713a3fb3dd22",
   "metadata": {
    "execution": {
     "iopub.execute_input": "2021-11-27T16:35:46.695710Z",
     "iopub.status.busy": "2021-11-27T16:35:46.695710Z",
     "iopub.status.idle": "2021-11-27T16:35:46.711330Z",
     "shell.execute_reply": "2021-11-27T16:35:46.711330Z",
     "shell.execute_reply.started": "2021-11-27T16:35:46.695710Z"
    },
    "tags": []
   },
   "outputs": [],
   "source": [
    "#import pytti.Image"
   ]
  },
  {
   "cell_type": "code",
   "execution_count": 7,
   "id": "a01c132b-5b9e-4e40-9f3b-6691dc66e477",
   "metadata": {
    "execution": {
     "iopub.execute_input": "2021-11-27T16:35:46.711330Z",
     "iopub.status.busy": "2021-11-27T16:35:46.711330Z",
     "iopub.status.idle": "2021-11-27T16:35:47.870278Z",
     "shell.execute_reply": "2021-11-27T16:35:47.870278Z",
     "shell.execute_reply.started": "2021-11-27T16:35:46.711330Z"
    },
    "tags": []
   },
   "outputs": [],
   "source": [
    "from pytti.Image import VQGANImage # nope, still an issue.\n",
    "# it's attached to PixelImage, which gets imported in pytti.Image.__init__\n",
    "# commented out that one import, shit's working again.\n",
    "#### SECRET SAUCE ALERT <-- AdaBins is a component of the pixelation trick\n",
    "#\n",
    "# VQGANImage is a subtype of DifferentiableImage"
   ]
  },
  {
   "cell_type": "code",
   "execution_count": 8,
   "id": "4ee23bdf-fea5-4ee6-9c60-74a22e66cae7",
   "metadata": {
    "execution": {
     "iopub.execute_input": "2021-11-27T16:35:47.870278Z",
     "iopub.status.busy": "2021-11-27T16:35:47.870278Z",
     "iopub.status.idle": "2021-11-27T16:35:47.885967Z",
     "shell.execute_reply": "2021-11-27T16:35:47.885881Z",
     "shell.execute_reply.started": "2021-11-27T16:35:47.870278Z"
    },
    "tags": []
   },
   "outputs": [
    {
     "name": "stdout",
     "output_type": "stream",
     "text": [
      "Help on function init_vqgan in module pytti.Image.VQGANImage:\n",
      "\n",
      "init_vqgan(model_name, device=device(type='cuda', index=0))\n",
      "\n"
     ]
    }
   ],
   "source": [
    "help(VQGANImage.init_vqgan)"
   ]
  },
  {
   "cell_type": "code",
   "execution_count": 9,
   "id": "b3c23c6e-123d-465f-98af-fd0fd1098824",
   "metadata": {
    "execution": {
     "iopub.execute_input": "2021-11-27T16:35:47.886543Z",
     "iopub.status.busy": "2021-11-27T16:35:47.886543Z",
     "iopub.status.idle": "2021-11-27T16:35:47.912302Z",
     "shell.execute_reply": "2021-11-27T16:35:47.912302Z",
     "shell.execute_reply.started": "2021-11-27T16:35:47.886543Z"
    },
    "tags": []
   },
   "outputs": [],
   "source": [
    "from pytti.Image.VQGANImage import VQGAN_MODEL_NAMES"
   ]
  },
  {
   "cell_type": "code",
   "execution_count": 10,
   "id": "7b7d6026-88ea-4e0b-8355-e1424483981c",
   "metadata": {
    "execution": {
     "iopub.execute_input": "2021-11-27T16:35:47.912302Z",
     "iopub.status.busy": "2021-11-27T16:35:47.912302Z",
     "iopub.status.idle": "2021-11-27T16:35:47.927879Z",
     "shell.execute_reply": "2021-11-27T16:35:47.927879Z",
     "shell.execute_reply.started": "2021-11-27T16:35:47.912302Z"
    },
    "tags": []
   },
   "outputs": [
    {
     "data": {
      "text/plain": [
       "['imagenet', 'coco', 'wikiart', 'sflckr', 'openimages']"
      ]
     },
     "execution_count": 10,
     "metadata": {},
     "output_type": "execute_result"
    }
   ],
   "source": [
    "VQGAN_MODEL_NAMES # part of the colab UI, presumably"
   ]
  },
  {
   "cell_type": "code",
   "execution_count": 11,
   "id": "cf7937b4-b584-4b94-94bc-b87d05846fb8",
   "metadata": {
    "execution": {
     "iopub.execute_input": "2021-11-27T16:35:47.927879Z",
     "iopub.status.busy": "2021-11-27T16:35:47.927879Z",
     "iopub.status.idle": "2021-11-27T16:35:48.006120Z",
     "shell.execute_reply": "2021-11-27T16:35:48.006120Z",
     "shell.execute_reply.started": "2021-11-27T16:35:47.927879Z"
    }
   },
   "outputs": [
    {
     "name": "stdout",
     "output_type": "stream",
     "text": [
      "Sat Nov 27 08:35:47 2021       \n",
      "+-----------------------------------------------------------------------------+\n",
      "| NVIDIA-SMI 510.06       Driver Version: 510.06       CUDA Version: 11.6     |\n",
      "|-------------------------------+----------------------+----------------------+\n",
      "| GPU  Name            TCC/WDDM | Bus-Id        Disp.A | Volatile Uncorr. ECC |\n",
      "| Fan  Temp  Perf  Pwr:Usage/Cap|         Memory-Usage | GPU-Util  Compute M. |\n",
      "|                               |                      |               MIG M. |\n",
      "|===============================+======================+======================|\n",
      "|   0  NVIDIA GeForce ... WDDM  | 00000000:01:00.0 Off |                  N/A |\n",
      "|  0%   27C    P8    11W / 350W |    409MiB / 24576MiB |      0%      Default |\n",
      "|                               |                      |                  N/A |\n",
      "+-------------------------------+----------------------+----------------------+\n",
      "                                                                               \n",
      "+-----------------------------------------------------------------------------+\n",
      "| Processes:                                                                  |\n",
      "|  GPU   GI   CI        PID   Type   Process name                  GPU Memory |\n",
      "|        ID   ID                                                   Usage      |\n",
      "|=============================================================================|\n",
      "|    0   N/A  N/A      1492    C+G   ...bbwe\\Microsoft.Photos.exe    N/A      |\n",
      "|    0   N/A  N/A      1540    C+G   ...lPanel\\SystemSettings.exe    N/A      |\n",
      "|    0   N/A  N/A      7884    C+G   Insufficient Permissions        N/A      |\n",
      "|    0   N/A  N/A     12880    C+G   ...in7x64\\steamwebhelper.exe    N/A      |\n",
      "|    0   N/A  N/A     13644    C+G   ...ge\\Application\\msedge.exe    N/A      |\n",
      "|    0   N/A  N/A     15704    C+G   ...5n1h2txyewy\\SearchApp.exe    N/A      |\n",
      "|    0   N/A  N/A     16280    C+G   ...nputApp\\TextInputHost.exe    N/A      |\n",
      "|    0   N/A  N/A     17144    C+G   ...ekyb3d8bbwe\\YourPhone.exe    N/A      |\n",
      "|    0   N/A  N/A     17640    C+G   ...lack\\app-4.21.1\\slack.exe    N/A      |\n",
      "|    0   N/A  N/A     18584    C+G   C:\\Windows\\explorer.exe         N/A      |\n",
      "|    0   N/A  N/A     19760    C+G   ...y\\ShellExperienceHost.exe    N/A      |\n",
      "+-----------------------------------------------------------------------------+\n"
     ]
    }
   ],
   "source": [
    "!nvidia-smi"
   ]
  },
  {
   "cell_type": "code",
   "execution_count": 12,
   "id": "bfc4907e-239b-4256-969a-a25ee3369723",
   "metadata": {
    "execution": {
     "iopub.execute_input": "2021-11-27T16:35:48.006120Z",
     "iopub.status.busy": "2021-11-27T16:35:48.006120Z",
     "iopub.status.idle": "2021-11-27T16:35:50.707006Z",
     "shell.execute_reply": "2021-11-27T16:35:50.707006Z",
     "shell.execute_reply.started": "2021-11-27T16:35:48.006120Z"
    },
    "tags": []
   },
   "outputs": [
    {
     "name": "stdout",
     "output_type": "stream",
     "text": [
      "Working with z of shape (1, 256, 16, 16) = 65536 dimensions.\n",
      "loaded pretrained LPIPS loss from taming/modules/autoencoder/lpips\\vgg.pth\n",
      "VQLPIPSWithDiscriminator running with hinge loss.\n",
      "Restored from imagenet.ckpt\n"
     ]
    }
   ],
   "source": [
    "model_idx = 0\n",
    "model_name = VQGAN_MODEL_NAMES[model_idx]\n",
    "VQGANImage.init_vqgan(model_name=model_name)\n",
    "# WARNING: VQGAN config file imagenet.yaml not found. Initializing download.\n",
    "# WARNING: VQGAN checkpoint file imagenet.ckpt not found. Initializing download.\n",
    "# nice. looking good."
   ]
  },
  {
   "cell_type": "code",
   "execution_count": 13,
   "id": "dec5494b-3ffa-472a-bf75-d20498949e33",
   "metadata": {
    "execution": {
     "iopub.execute_input": "2021-11-27T16:35:50.707006Z",
     "iopub.status.busy": "2021-11-27T16:35:50.707006Z",
     "iopub.status.idle": "2021-11-27T16:35:51.279700Z",
     "shell.execute_reply": "2021-11-27T16:35:51.279700Z",
     "shell.execute_reply.started": "2021-11-27T16:35:50.707006Z"
    },
    "tags": []
   },
   "outputs": [],
   "source": [
    "img = VQGANImage(width=200, height=200) # is this right?"
   ]
  },
  {
   "cell_type": "code",
   "execution_count": 14,
   "id": "9db51571-3fbe-4e81-83ea-e40f0bcd98c8",
   "metadata": {
    "execution": {
     "iopub.execute_input": "2021-11-27T16:35:51.279700Z",
     "iopub.status.busy": "2021-11-27T16:35:51.279700Z",
     "iopub.status.idle": "2021-11-27T16:35:51.676150Z",
     "shell.execute_reply": "2021-11-27T16:35:51.676150Z",
     "shell.execute_reply.started": "2021-11-27T16:35:51.279700Z"
    },
    "tags": []
   },
   "outputs": [],
   "source": [
    "from pytti.ImageGuide import DirectImageGuide\n",
    "# had to install labelLines to get this part to work."
   ]
  },
  {
   "cell_type": "code",
   "execution_count": 15,
   "id": "54408447-c354-4a41-b5eb-30598d1f5704",
   "metadata": {
    "execution": {
     "iopub.execute_input": "2021-11-27T16:35:51.676150Z",
     "iopub.status.busy": "2021-11-27T16:35:51.676150Z",
     "iopub.status.idle": "2021-11-27T16:35:51.691759Z",
     "shell.execute_reply": "2021-11-27T16:35:51.691759Z",
     "shell.execute_reply.started": "2021-11-27T16:35:51.676150Z"
    },
    "tags": []
   },
   "outputs": [
    {
     "name": "stdout",
     "output_type": "stream",
     "text": [
      "Help on class DirectImageGuide in module pytti.ImageGuide:\n",
      "\n",
      "class DirectImageGuide(builtins.object)\n",
      " |  DirectImageGuide(image_rep, embedder, optimizer=None, lr=None, **optimizer_params)\n",
      " |  \n",
      " |  Image guide that uses an optimizer and torch autograd to optimize an image representation\n",
      " |  Based on the BigGan+CLIP algorithm by advadnoun (https://twitter.com/advadnoun)\n",
      " |  image_rep: (DifferentiableImage) image representation\n",
      " |  embedder: (Module)               image embedder\n",
      " |  optimizer: (Class)               optimizer class to use. Defaults to Adam\n",
      " |  all other arguments are passed as kwargs to the optimizer.\n",
      " |  \n",
      " |  Methods defined here:\n",
      " |  \n",
      " |  __init__(self, image_rep, embedder, optimizer=None, lr=None, **optimizer_params)\n",
      " |      Initialize self.  See help(type(self)) for accurate signature.\n",
      " |  \n",
      " |  clear_dataframe(self)\n",
      " |  \n",
      " |  plot_losses(self, axs)\n",
      " |  \n",
      " |  run_steps(self, n_steps, prompts, interp_prompts, loss_augs, stop=-inf, interp_steps=0, i_offset=0, skipped_steps=0)\n",
      " |      runs the optimizer\n",
      " |      prompts: (ClipPrompt list) list of prompts\n",
      " |      n_steps: (positive integer) steps to run\n",
      " |      returns: the number of steps run\n",
      " |  \n",
      " |  set_optim(self, opt=None)\n",
      " |  \n",
      " |  train(self, i, prompts, interp_prompts, loss_augs, interp_steps=0, save_loss=True)\n",
      " |      steps the optimizer\n",
      " |      promts: (ClipPrompt list) list of prompts\n",
      " |  \n",
      " |  update(self, i, stage_i)\n",
      " |      update hook called ever step\n",
      " |  \n",
      " |  ----------------------------------------------------------------------\n",
      " |  Data descriptors defined here:\n",
      " |  \n",
      " |  __dict__\n",
      " |      dictionary for instance variables (if defined)\n",
      " |  \n",
      " |  __weakref__\n",
      " |      list of weak references to the object (if defined)\n",
      "\n"
     ]
    }
   ],
   "source": [
    "help(DirectImageGuide)"
   ]
  },
  {
   "cell_type": "code",
   "execution_count": 16,
   "id": "51ddc7da-e544-42cb-8445-992d4287365a",
   "metadata": {
    "execution": {
     "iopub.execute_input": "2021-11-27T16:35:51.691759Z",
     "iopub.status.busy": "2021-11-27T16:35:51.691759Z",
     "iopub.status.idle": "2021-11-27T16:35:51.832388Z",
     "shell.execute_reply": "2021-11-27T16:35:51.832388Z",
     "shell.execute_reply.started": "2021-11-27T16:35:51.691759Z"
    },
    "tags": []
   },
   "outputs": [],
   "source": [
    "from pytti import Perceptor\n",
    "# had to add __init__.py to CLIP directory \n",
    "# and changed import in pytti.Perceptor\n",
    "# oh.... I think I was actually supposed to install CLIP? It has a setup.py..."
   ]
  },
  {
   "cell_type": "code",
   "execution_count": 17,
   "id": "f402fc64-c3c7-4bc3-9f19-a386901b9359",
   "metadata": {
    "execution": {
     "iopub.execute_input": "2021-11-27T16:35:51.832388Z",
     "iopub.status.busy": "2021-11-27T16:35:51.832388Z",
     "iopub.status.idle": "2021-11-27T16:35:51.926365Z",
     "shell.execute_reply": "2021-11-27T16:35:51.926365Z",
     "shell.execute_reply.started": "2021-11-27T16:35:51.832388Z"
    },
    "tags": []
   },
   "outputs": [
    {
     "name": "stdout",
     "output_type": "stream",
     "text": [
      "Sat Nov 27 08:35:51 2021       \n",
      "+-----------------------------------------------------------------------------+\n",
      "| NVIDIA-SMI 510.06       Driver Version: 510.06       CUDA Version: 11.6     |\n",
      "|-------------------------------+----------------------+----------------------+\n",
      "| GPU  Name            TCC/WDDM | Bus-Id        Disp.A | Volatile Uncorr. ECC |\n",
      "| Fan  Temp  Perf  Pwr:Usage/Cap|         Memory-Usage | GPU-Util  Compute M. |\n",
      "|                               |                      |               MIG M. |\n",
      "|===============================+======================+======================|\n",
      "|   0  NVIDIA GeForce ... WDDM  | 00000000:01:00.0 Off |                  N/A |\n",
      "|  0%   31C    P5   102W / 350W |   1838MiB / 24576MiB |      0%      Default |\n",
      "|                               |                      |                  N/A |\n",
      "+-------------------------------+----------------------+----------------------+\n",
      "                                                                               \n",
      "+-----------------------------------------------------------------------------+\n",
      "| Processes:                                                                  |\n",
      "|  GPU   GI   CI        PID   Type   Process name                  GPU Memory |\n",
      "|        ID   ID                                                   Usage      |\n",
      "|=============================================================================|\n",
      "|    0   N/A  N/A      1492    C+G   ...bbwe\\Microsoft.Photos.exe    N/A      |\n",
      "|    0   N/A  N/A      1540    C+G   ...lPanel\\SystemSettings.exe    N/A      |\n",
      "|    0   N/A  N/A      7884    C+G   Insufficient Permissions        N/A      |\n",
      "|    0   N/A  N/A     12880    C+G   ...in7x64\\steamwebhelper.exe    N/A      |\n",
      "|    0   N/A  N/A     13644    C+G   ...ge\\Application\\msedge.exe    N/A      |\n",
      "|    0   N/A  N/A     15264      C   ...3\\envs\\sandbox\\python.exe    N/A      |\n",
      "|    0   N/A  N/A     15704    C+G   ...5n1h2txyewy\\SearchApp.exe    N/A      |\n",
      "|    0   N/A  N/A     16280    C+G   ...nputApp\\TextInputHost.exe    N/A      |\n",
      "|    0   N/A  N/A     17144    C+G   ...ekyb3d8bbwe\\YourPhone.exe    N/A      |\n",
      "|    0   N/A  N/A     17640    C+G   ...lack\\app-4.21.1\\slack.exe    N/A      |\n",
      "|    0   N/A  N/A     18584    C+G   C:\\Windows\\explorer.exe         N/A      |\n",
      "|    0   N/A  N/A     19760    C+G   ...y\\ShellExperienceHost.exe    N/A      |\n",
      "+-----------------------------------------------------------------------------+\n"
     ]
    }
   ],
   "source": [
    "!nvidia-smi"
   ]
  },
  {
   "cell_type": "code",
   "execution_count": 18,
   "id": "d876be94-de7c-42e2-aadb-6506025e07ac",
   "metadata": {
    "execution": {
     "iopub.execute_input": "2021-11-27T16:35:51.926365Z",
     "iopub.status.busy": "2021-11-27T16:35:51.926365Z",
     "iopub.status.idle": "2021-11-27T16:35:54.370379Z",
     "shell.execute_reply": "2021-11-27T16:35:54.370379Z",
     "shell.execute_reply.started": "2021-11-27T16:35:51.926365Z"
    },
    "tags": []
   },
   "outputs": [],
   "source": [
    "import pytti.CLIP # it's a little funny but whatever\n",
    "\n",
    "available_clip_models = pytti.CLIP.clip.available_models()\n",
    "#Perceptor.init_clip(available_clip_models)\n",
    "Perceptor.init_clip([available_clip_models[-1]])\n",
    "# nice\n",
    "#Perceptor.free_clip()"
   ]
  },
  {
   "cell_type": "code",
   "execution_count": 19,
   "id": "3af1c70c-ef20-4dde-a0d2-8b1e15ee8e54",
   "metadata": {
    "execution": {
     "iopub.execute_input": "2021-11-27T16:35:54.370379Z",
     "iopub.status.busy": "2021-11-27T16:35:54.370379Z",
     "iopub.status.idle": "2021-11-27T16:35:54.448484Z",
     "shell.execute_reply": "2021-11-27T16:35:54.448484Z",
     "shell.execute_reply.started": "2021-11-27T16:35:54.370379Z"
    }
   },
   "outputs": [
    {
     "name": "stdout",
     "output_type": "stream",
     "text": [
      "Sat Nov 27 08:35:54 2021       \n",
      "+-----------------------------------------------------------------------------+\n",
      "| NVIDIA-SMI 510.06       Driver Version: 510.06       CUDA Version: 11.6     |\n",
      "|-------------------------------+----------------------+----------------------+\n",
      "| GPU  Name            TCC/WDDM | Bus-Id        Disp.A | Volatile Uncorr. ECC |\n",
      "| Fan  Temp  Perf  Pwr:Usage/Cap|         Memory-Usage | GPU-Util  Compute M. |\n",
      "|                               |                      |               MIG M. |\n",
      "|===============================+======================+======================|\n",
      "|   0  NVIDIA GeForce ... WDDM  | 00000000:01:00.0 Off |                  N/A |\n",
      "|  0%   28C    P8    13W / 350W |   2144MiB / 24576MiB |     53%      Default |\n",
      "|                               |                      |                  N/A |\n",
      "+-------------------------------+----------------------+----------------------+\n",
      "                                                                               \n",
      "+-----------------------------------------------------------------------------+\n",
      "| Processes:                                                                  |\n",
      "|  GPU   GI   CI        PID   Type   Process name                  GPU Memory |\n",
      "|        ID   ID                                                   Usage      |\n",
      "|=============================================================================|\n",
      "|    0   N/A  N/A      1492    C+G   ...bbwe\\Microsoft.Photos.exe    N/A      |\n",
      "|    0   N/A  N/A      1540    C+G   ...lPanel\\SystemSettings.exe    N/A      |\n",
      "|    0   N/A  N/A      7884    C+G   Insufficient Permissions        N/A      |\n",
      "|    0   N/A  N/A     12880    C+G   ...in7x64\\steamwebhelper.exe    N/A      |\n",
      "|    0   N/A  N/A     13644    C+G   ...ge\\Application\\msedge.exe    N/A      |\n",
      "|    0   N/A  N/A     15264      C   ...3\\envs\\sandbox\\python.exe    N/A      |\n",
      "|    0   N/A  N/A     15704    C+G   ...5n1h2txyewy\\SearchApp.exe    N/A      |\n",
      "|    0   N/A  N/A     16280    C+G   ...nputApp\\TextInputHost.exe    N/A      |\n",
      "|    0   N/A  N/A     17144    C+G   ...ekyb3d8bbwe\\YourPhone.exe    N/A      |\n",
      "|    0   N/A  N/A     17640    C+G   ...lack\\app-4.21.1\\slack.exe    N/A      |\n",
      "|    0   N/A  N/A     18584    C+G   C:\\Windows\\explorer.exe         N/A      |\n",
      "|    0   N/A  N/A     19760    C+G   ...y\\ShellExperienceHost.exe    N/A      |\n",
      "+-----------------------------------------------------------------------------+\n"
     ]
    }
   ],
   "source": [
    "!nvidia-smi"
   ]
  },
  {
   "cell_type": "code",
   "execution_count": 20,
   "id": "894d8800-ef6d-4d4c-be91-6dca234193f6",
   "metadata": {
    "execution": {
     "iopub.execute_input": "2021-11-27T16:35:54.448484Z",
     "iopub.status.busy": "2021-11-27T16:35:54.448484Z",
     "iopub.status.idle": "2021-11-27T16:35:54.589088Z",
     "shell.execute_reply": "2021-11-27T16:35:54.589088Z",
     "shell.execute_reply.started": "2021-11-27T16:35:54.448484Z"
    },
    "tags": []
   },
   "outputs": [],
   "source": [
    "from pytti.Perceptor.Embedder import HDMultiClipEmbedder\n",
    "\n",
    "emb = HDMultiClipEmbedder()"
   ]
  },
  {
   "cell_type": "code",
   "execution_count": 21,
   "id": "a6b2554d-11e4-4ed0-9bca-d048f6ee9f87",
   "metadata": {
    "execution": {
     "iopub.execute_input": "2021-11-27T16:35:54.589088Z",
     "iopub.status.busy": "2021-11-27T16:35:54.589088Z",
     "iopub.status.idle": "2021-11-27T16:35:54.604698Z",
     "shell.execute_reply": "2021-11-27T16:35:54.604698Z",
     "shell.execute_reply.started": "2021-11-27T16:35:54.589088Z"
    },
    "tags": []
   },
   "outputs": [],
   "source": [
    "guide = DirectImageGuide(image_rep=img, embedder=emb)\n",
    "# 2 required positional arguments: 'image_rep' and 'embedder'\n",
    "# image_rep: (DifferentiableImage) image representation\n",
    "# embedder: (Module)               image embedder"
   ]
  },
  {
   "cell_type": "code",
   "execution_count": 22,
   "id": "93c77f20-c22e-4b61-9961-9e2b3938fba6",
   "metadata": {
    "execution": {
     "iopub.execute_input": "2021-11-27T16:35:54.604698Z",
     "iopub.status.busy": "2021-11-27T16:35:54.604698Z",
     "iopub.status.idle": "2021-11-27T16:35:54.677452Z",
     "shell.execute_reply": "2021-11-27T16:35:54.677452Z",
     "shell.execute_reply.started": "2021-11-27T16:35:54.604698Z"
    }
   },
   "outputs": [
    {
     "name": "stdout",
     "output_type": "stream",
     "text": [
      "Sat Nov 27 08:35:54 2021       \n",
      "+-----------------------------------------------------------------------------+\n",
      "| NVIDIA-SMI 510.06       Driver Version: 510.06       CUDA Version: 11.6     |\n",
      "|-------------------------------+----------------------+----------------------+\n",
      "| GPU  Name            TCC/WDDM | Bus-Id        Disp.A | Volatile Uncorr. ECC |\n",
      "| Fan  Temp  Perf  Pwr:Usage/Cap|         Memory-Usage | GPU-Util  Compute M. |\n",
      "|                               |                      |               MIG M. |\n",
      "|===============================+======================+======================|\n",
      "|   0  NVIDIA GeForce ... WDDM  | 00000000:01:00.0 Off |                  N/A |\n",
      "|  0%   28C    P8    13W / 350W |   2144MiB / 24576MiB |      0%      Default |\n",
      "|                               |                      |                  N/A |\n",
      "+-------------------------------+----------------------+----------------------+\n",
      "                                                                               \n",
      "+-----------------------------------------------------------------------------+\n",
      "| Processes:                                                                  |\n",
      "|  GPU   GI   CI        PID   Type   Process name                  GPU Memory |\n",
      "|        ID   ID                                                   Usage      |\n",
      "|=============================================================================|\n",
      "|    0   N/A  N/A      1492    C+G   ...bbwe\\Microsoft.Photos.exe    N/A      |\n",
      "|    0   N/A  N/A      1540    C+G   ...lPanel\\SystemSettings.exe    N/A      |\n",
      "|    0   N/A  N/A      7884    C+G   Insufficient Permissions        N/A      |\n",
      "|    0   N/A  N/A     12880    C+G   ...in7x64\\steamwebhelper.exe    N/A      |\n",
      "|    0   N/A  N/A     13644    C+G   ...ge\\Application\\msedge.exe    N/A      |\n",
      "|    0   N/A  N/A     15264      C   ...3\\envs\\sandbox\\python.exe    N/A      |\n",
      "|    0   N/A  N/A     15704    C+G   ...5n1h2txyewy\\SearchApp.exe    N/A      |\n",
      "|    0   N/A  N/A     16280    C+G   ...nputApp\\TextInputHost.exe    N/A      |\n",
      "|    0   N/A  N/A     17144    C+G   ...ekyb3d8bbwe\\YourPhone.exe    N/A      |\n",
      "|    0   N/A  N/A     17640    C+G   ...lack\\app-4.21.1\\slack.exe    N/A      |\n",
      "|    0   N/A  N/A     18584    C+G   C:\\Windows\\explorer.exe         N/A      |\n",
      "|    0   N/A  N/A     19760    C+G   ...y\\ShellExperienceHost.exe    N/A      |\n",
      "+-----------------------------------------------------------------------------+\n"
     ]
    }
   ],
   "source": [
    "!nvidia-smi"
   ]
  },
  {
   "cell_type": "code",
   "execution_count": 23,
   "id": "3a1ebac8-4a56-4eb0-b614-9504cdebb2ae",
   "metadata": {
    "execution": {
     "iopub.execute_input": "2021-11-27T16:35:54.677452Z",
     "iopub.status.busy": "2021-11-27T16:35:54.677452Z",
     "iopub.status.idle": "2021-11-27T16:35:54.693022Z",
     "shell.execute_reply": "2021-11-27T16:35:54.693022Z",
     "shell.execute_reply.started": "2021-11-27T16:35:54.677452Z"
    }
   },
   "outputs": [],
   "source": [
    "# just for my reference, \n",
    "\n",
    "# from pytti.__init__\n",
    "###########################\n",
    "#def format_input(tensor, source, dest):\n",
    "#  return named_rearrange(tensor, source.output_axes, dest.input_axes)\n",
    "\n",
    "# from pytti.ImageGuide.DirectImageGuide.train\n",
    "###########################\n",
    "#    prompt_losses = {prompt:prompt(format_input(image_embeds, self.embedder, prompt),\n",
    "#                                   format_input(offsets, self.embedder, prompt),\n",
    "#                                   format_input(sizes, self.embedder, prompt)) for prompt in prompts}\n",
    "\n"
   ]
  },
  {
   "cell_type": "code",
   "execution_count": 24,
   "id": "766bf0a3-7a09-40b6-be77-f930ba0bc44d",
   "metadata": {
    "execution": {
     "iopub.execute_input": "2021-11-27T16:35:54.693022Z",
     "iopub.status.busy": "2021-11-27T16:35:54.693022Z",
     "iopub.status.idle": "2021-11-27T16:35:54.724333Z",
     "shell.execute_reply": "2021-11-27T16:35:54.724333Z",
     "shell.execute_reply.started": "2021-11-27T16:35:54.693022Z"
    },
    "tags": []
   },
   "outputs": [
    {
     "name": "stdout",
     "output_type": "stream",
     "text": [
      "Help on method run_steps in module pytti.ImageGuide:\n",
      "\n",
      "run_steps(n_steps, prompts, interp_prompts, loss_augs, stop=-inf, interp_steps=0, i_offset=0, skipped_steps=0) method of pytti.ImageGuide.DirectImageGuide instance\n",
      "    runs the optimizer\n",
      "    prompts: (ClipPrompt list) list of prompts\n",
      "    n_steps: (positive integer) steps to run\n",
      "    returns: the number of steps run\n",
      "\n"
     ]
    }
   ],
   "source": [
    "#oh baby\n",
    "help(guide.run_steps)\n",
    "# run_steps(\n",
    "#  n_steps, prompts, interp_prompts, loss_augs, \n",
    "#  stop=-inf, interp_steps=0, i_offset=0, skipped_steps=0)\n",
    "\n",
    "#prompts: (ClipPrompt list) list of prompts\n",
    "#n_steps: (positive integer) steps to run\n",
    "#returns: the number of steps run\n",
    "\n",
    "# Looks like I need to define a ClipPrompt class\n",
    "# Probably a Prompt class in the original notebook or somethign like that"
   ]
  },
  {
   "cell_type": "code",
   "execution_count": 25,
   "id": "b6b39c60-b743-49f7-b27e-2befb4833d05",
   "metadata": {
    "execution": {
     "iopub.execute_input": "2021-11-27T16:35:54.724333Z",
     "iopub.status.busy": "2021-11-27T16:35:54.724333Z",
     "iopub.status.idle": "2021-11-27T16:35:54.739850Z",
     "shell.execute_reply": "2021-11-27T16:35:54.739850Z",
     "shell.execute_reply.started": "2021-11-27T16:35:54.724333Z"
    },
    "tags": []
   },
   "outputs": [],
   "source": [
    "# temporary workaround\n",
    "from dataclasses import dataclass\n",
    "\n",
    "@dataclass\n",
    "class Args:\n",
    "    prompts = ['a painting of an apple']\n",
    "    \n",
    "args = Args()"
   ]
  },
  {
   "cell_type": "code",
   "execution_count": 26,
   "id": "ddbf003c-25f9-45de-b984-06a5d0e0322c",
   "metadata": {
    "execution": {
     "iopub.execute_input": "2021-11-27T16:35:54.739850Z",
     "iopub.status.busy": "2021-11-27T16:35:54.739850Z",
     "iopub.status.idle": "2021-11-27T16:35:54.755576Z",
     "shell.execute_reply": "2021-11-27T16:35:54.755576Z",
     "shell.execute_reply.started": "2021-11-27T16:35:54.739850Z"
    },
    "tags": []
   },
   "outputs": [],
   "source": [
    "# modified from\n",
    "#https://colab.research.google.com/drive/1iLdYrjtEYLDs_KpLbZOUEVlZpEgY3E8b#scrollTo=EXMSuW2EQWsd\n",
    "\n",
    "# Naw fuck that, check out pytti.Perceptor.Prompt\n",
    "#class Prompt(nn.Module):\n",
    "#class ClipPrompt(nn.Module):\n",
    "#    def __init__(self, embed, weight=1., stop=float('-inf')):\n",
    "#        super().__init__()\n",
    "#        self.register_buffer('embed', embed)\n",
    "#        self.register_buffer('weight', torch.as_tensor(weight))\n",
    "#        self.register_buffer('stop', torch.as_tensor(stop))\n",
    "# \n",
    "#    def forward(self, input):\n",
    "#        input_normed = F.normalize(input.unsqueeze(1), dim=2)\n",
    "#        embed_normed = F.normalize(self.embed.unsqueeze(0), dim=2)\n",
    "#        dists = input_normed.sub(embed_normed).norm(dim=2).div(2).arcsin().pow(2).mul(2)\n",
    "#        dists = dists * self.weight.sign()\n",
    "#        return self.weight.abs() * replace_grad(dists, torch.maximum(dists, self.stop)).mean()\n",
    " \n",
    "# modified from\n",
    "#https://colab.research.google.com/drive/1iLdYrjtEYLDs_KpLbZOUEVlZpEgY3E8b#scrollTo=EXMSuW2EQWsd\n",
    "\n",
    "#pMs = []\n",
    "\n",
    "#for prompt in args.prompts:\n",
    "#for prompt in args.prompts:\n",
    "#    txt, weight, stop = parse_prompt(prompt)\n",
    "#    embed = perceptor.encode_text(clip.tokenize(txt).to(device)).float()\n",
    "#    pMs.append(Prompt(embed, weight, stop).to(device))"
   ]
  },
  {
   "cell_type": "code",
   "execution_count": 27,
   "id": "33811e87-cc26-4957-bfd5-f88d283abcf2",
   "metadata": {
    "execution": {
     "iopub.execute_input": "2021-11-27T16:35:54.755576Z",
     "iopub.status.busy": "2021-11-27T16:35:54.755576Z",
     "iopub.status.idle": "2021-11-27T16:35:54.771101Z",
     "shell.execute_reply": "2021-11-27T16:35:54.771101Z",
     "shell.execute_reply.started": "2021-11-27T16:35:54.755576Z"
    },
    "tags": []
   },
   "outputs": [],
   "source": [
    "from pytti.Perceptor.Prompt import Prompt, MultiClipImagePrompt, parse_prompt\n",
    "# ugh the CLIP thing..."
   ]
  },
  {
   "cell_type": "code",
   "execution_count": 28,
   "id": "34e290a8-1b3c-4db3-a205-232f37487f26",
   "metadata": {
    "execution": {
     "iopub.execute_input": "2021-11-27T16:35:54.771101Z",
     "iopub.status.busy": "2021-11-27T16:35:54.771101Z",
     "iopub.status.idle": "2021-11-27T16:35:54.812739Z",
     "shell.execute_reply": "2021-11-27T16:35:54.812739Z",
     "shell.execute_reply.started": "2021-11-27T16:35:54.771101Z"
    }
   },
   "outputs": [
    {
     "data": {
      "text/plain": [
       "[CLIP(\n",
       "   (visual): VisionTransformer(\n",
       "     (conv1): Conv2d(3, 768, kernel_size=(16, 16), stride=(16, 16), bias=False)\n",
       "     (ln_pre): LayerNorm((768,), eps=1e-05, elementwise_affine=True)\n",
       "     (transformer): Transformer(\n",
       "       (resblocks): Sequential(\n",
       "         (0): ResidualAttentionBlock(\n",
       "           (attn): MultiheadAttention(\n",
       "             (out_proj): NonDynamicallyQuantizableLinear(in_features=768, out_features=768, bias=True)\n",
       "           )\n",
       "           (ln_1): LayerNorm((768,), eps=1e-05, elementwise_affine=True)\n",
       "           (mlp): Sequential(\n",
       "             (c_fc): Linear(in_features=768, out_features=3072, bias=True)\n",
       "             (gelu): QuickGELU()\n",
       "             (c_proj): Linear(in_features=3072, out_features=768, bias=True)\n",
       "           )\n",
       "           (ln_2): LayerNorm((768,), eps=1e-05, elementwise_affine=True)\n",
       "         )\n",
       "         (1): ResidualAttentionBlock(\n",
       "           (attn): MultiheadAttention(\n",
       "             (out_proj): NonDynamicallyQuantizableLinear(in_features=768, out_features=768, bias=True)\n",
       "           )\n",
       "           (ln_1): LayerNorm((768,), eps=1e-05, elementwise_affine=True)\n",
       "           (mlp): Sequential(\n",
       "             (c_fc): Linear(in_features=768, out_features=3072, bias=True)\n",
       "             (gelu): QuickGELU()\n",
       "             (c_proj): Linear(in_features=3072, out_features=768, bias=True)\n",
       "           )\n",
       "           (ln_2): LayerNorm((768,), eps=1e-05, elementwise_affine=True)\n",
       "         )\n",
       "         (2): ResidualAttentionBlock(\n",
       "           (attn): MultiheadAttention(\n",
       "             (out_proj): NonDynamicallyQuantizableLinear(in_features=768, out_features=768, bias=True)\n",
       "           )\n",
       "           (ln_1): LayerNorm((768,), eps=1e-05, elementwise_affine=True)\n",
       "           (mlp): Sequential(\n",
       "             (c_fc): Linear(in_features=768, out_features=3072, bias=True)\n",
       "             (gelu): QuickGELU()\n",
       "             (c_proj): Linear(in_features=3072, out_features=768, bias=True)\n",
       "           )\n",
       "           (ln_2): LayerNorm((768,), eps=1e-05, elementwise_affine=True)\n",
       "         )\n",
       "         (3): ResidualAttentionBlock(\n",
       "           (attn): MultiheadAttention(\n",
       "             (out_proj): NonDynamicallyQuantizableLinear(in_features=768, out_features=768, bias=True)\n",
       "           )\n",
       "           (ln_1): LayerNorm((768,), eps=1e-05, elementwise_affine=True)\n",
       "           (mlp): Sequential(\n",
       "             (c_fc): Linear(in_features=768, out_features=3072, bias=True)\n",
       "             (gelu): QuickGELU()\n",
       "             (c_proj): Linear(in_features=3072, out_features=768, bias=True)\n",
       "           )\n",
       "           (ln_2): LayerNorm((768,), eps=1e-05, elementwise_affine=True)\n",
       "         )\n",
       "         (4): ResidualAttentionBlock(\n",
       "           (attn): MultiheadAttention(\n",
       "             (out_proj): NonDynamicallyQuantizableLinear(in_features=768, out_features=768, bias=True)\n",
       "           )\n",
       "           (ln_1): LayerNorm((768,), eps=1e-05, elementwise_affine=True)\n",
       "           (mlp): Sequential(\n",
       "             (c_fc): Linear(in_features=768, out_features=3072, bias=True)\n",
       "             (gelu): QuickGELU()\n",
       "             (c_proj): Linear(in_features=3072, out_features=768, bias=True)\n",
       "           )\n",
       "           (ln_2): LayerNorm((768,), eps=1e-05, elementwise_affine=True)\n",
       "         )\n",
       "         (5): ResidualAttentionBlock(\n",
       "           (attn): MultiheadAttention(\n",
       "             (out_proj): NonDynamicallyQuantizableLinear(in_features=768, out_features=768, bias=True)\n",
       "           )\n",
       "           (ln_1): LayerNorm((768,), eps=1e-05, elementwise_affine=True)\n",
       "           (mlp): Sequential(\n",
       "             (c_fc): Linear(in_features=768, out_features=3072, bias=True)\n",
       "             (gelu): QuickGELU()\n",
       "             (c_proj): Linear(in_features=3072, out_features=768, bias=True)\n",
       "           )\n",
       "           (ln_2): LayerNorm((768,), eps=1e-05, elementwise_affine=True)\n",
       "         )\n",
       "         (6): ResidualAttentionBlock(\n",
       "           (attn): MultiheadAttention(\n",
       "             (out_proj): NonDynamicallyQuantizableLinear(in_features=768, out_features=768, bias=True)\n",
       "           )\n",
       "           (ln_1): LayerNorm((768,), eps=1e-05, elementwise_affine=True)\n",
       "           (mlp): Sequential(\n",
       "             (c_fc): Linear(in_features=768, out_features=3072, bias=True)\n",
       "             (gelu): QuickGELU()\n",
       "             (c_proj): Linear(in_features=3072, out_features=768, bias=True)\n",
       "           )\n",
       "           (ln_2): LayerNorm((768,), eps=1e-05, elementwise_affine=True)\n",
       "         )\n",
       "         (7): ResidualAttentionBlock(\n",
       "           (attn): MultiheadAttention(\n",
       "             (out_proj): NonDynamicallyQuantizableLinear(in_features=768, out_features=768, bias=True)\n",
       "           )\n",
       "           (ln_1): LayerNorm((768,), eps=1e-05, elementwise_affine=True)\n",
       "           (mlp): Sequential(\n",
       "             (c_fc): Linear(in_features=768, out_features=3072, bias=True)\n",
       "             (gelu): QuickGELU()\n",
       "             (c_proj): Linear(in_features=3072, out_features=768, bias=True)\n",
       "           )\n",
       "           (ln_2): LayerNorm((768,), eps=1e-05, elementwise_affine=True)\n",
       "         )\n",
       "         (8): ResidualAttentionBlock(\n",
       "           (attn): MultiheadAttention(\n",
       "             (out_proj): NonDynamicallyQuantizableLinear(in_features=768, out_features=768, bias=True)\n",
       "           )\n",
       "           (ln_1): LayerNorm((768,), eps=1e-05, elementwise_affine=True)\n",
       "           (mlp): Sequential(\n",
       "             (c_fc): Linear(in_features=768, out_features=3072, bias=True)\n",
       "             (gelu): QuickGELU()\n",
       "             (c_proj): Linear(in_features=3072, out_features=768, bias=True)\n",
       "           )\n",
       "           (ln_2): LayerNorm((768,), eps=1e-05, elementwise_affine=True)\n",
       "         )\n",
       "         (9): ResidualAttentionBlock(\n",
       "           (attn): MultiheadAttention(\n",
       "             (out_proj): NonDynamicallyQuantizableLinear(in_features=768, out_features=768, bias=True)\n",
       "           )\n",
       "           (ln_1): LayerNorm((768,), eps=1e-05, elementwise_affine=True)\n",
       "           (mlp): Sequential(\n",
       "             (c_fc): Linear(in_features=768, out_features=3072, bias=True)\n",
       "             (gelu): QuickGELU()\n",
       "             (c_proj): Linear(in_features=3072, out_features=768, bias=True)\n",
       "           )\n",
       "           (ln_2): LayerNorm((768,), eps=1e-05, elementwise_affine=True)\n",
       "         )\n",
       "         (10): ResidualAttentionBlock(\n",
       "           (attn): MultiheadAttention(\n",
       "             (out_proj): NonDynamicallyQuantizableLinear(in_features=768, out_features=768, bias=True)\n",
       "           )\n",
       "           (ln_1): LayerNorm((768,), eps=1e-05, elementwise_affine=True)\n",
       "           (mlp): Sequential(\n",
       "             (c_fc): Linear(in_features=768, out_features=3072, bias=True)\n",
       "             (gelu): QuickGELU()\n",
       "             (c_proj): Linear(in_features=3072, out_features=768, bias=True)\n",
       "           )\n",
       "           (ln_2): LayerNorm((768,), eps=1e-05, elementwise_affine=True)\n",
       "         )\n",
       "         (11): ResidualAttentionBlock(\n",
       "           (attn): MultiheadAttention(\n",
       "             (out_proj): NonDynamicallyQuantizableLinear(in_features=768, out_features=768, bias=True)\n",
       "           )\n",
       "           (ln_1): LayerNorm((768,), eps=1e-05, elementwise_affine=True)\n",
       "           (mlp): Sequential(\n",
       "             (c_fc): Linear(in_features=768, out_features=3072, bias=True)\n",
       "             (gelu): QuickGELU()\n",
       "             (c_proj): Linear(in_features=3072, out_features=768, bias=True)\n",
       "           )\n",
       "           (ln_2): LayerNorm((768,), eps=1e-05, elementwise_affine=True)\n",
       "         )\n",
       "       )\n",
       "     )\n",
       "     (ln_post): LayerNorm((768,), eps=1e-05, elementwise_affine=True)\n",
       "   )\n",
       "   (transformer): Transformer(\n",
       "     (resblocks): Sequential(\n",
       "       (0): ResidualAttentionBlock(\n",
       "         (attn): MultiheadAttention(\n",
       "           (out_proj): NonDynamicallyQuantizableLinear(in_features=512, out_features=512, bias=True)\n",
       "         )\n",
       "         (ln_1): LayerNorm((512,), eps=1e-05, elementwise_affine=True)\n",
       "         (mlp): Sequential(\n",
       "           (c_fc): Linear(in_features=512, out_features=2048, bias=True)\n",
       "           (gelu): QuickGELU()\n",
       "           (c_proj): Linear(in_features=2048, out_features=512, bias=True)\n",
       "         )\n",
       "         (ln_2): LayerNorm((512,), eps=1e-05, elementwise_affine=True)\n",
       "       )\n",
       "       (1): ResidualAttentionBlock(\n",
       "         (attn): MultiheadAttention(\n",
       "           (out_proj): NonDynamicallyQuantizableLinear(in_features=512, out_features=512, bias=True)\n",
       "         )\n",
       "         (ln_1): LayerNorm((512,), eps=1e-05, elementwise_affine=True)\n",
       "         (mlp): Sequential(\n",
       "           (c_fc): Linear(in_features=512, out_features=2048, bias=True)\n",
       "           (gelu): QuickGELU()\n",
       "           (c_proj): Linear(in_features=2048, out_features=512, bias=True)\n",
       "         )\n",
       "         (ln_2): LayerNorm((512,), eps=1e-05, elementwise_affine=True)\n",
       "       )\n",
       "       (2): ResidualAttentionBlock(\n",
       "         (attn): MultiheadAttention(\n",
       "           (out_proj): NonDynamicallyQuantizableLinear(in_features=512, out_features=512, bias=True)\n",
       "         )\n",
       "         (ln_1): LayerNorm((512,), eps=1e-05, elementwise_affine=True)\n",
       "         (mlp): Sequential(\n",
       "           (c_fc): Linear(in_features=512, out_features=2048, bias=True)\n",
       "           (gelu): QuickGELU()\n",
       "           (c_proj): Linear(in_features=2048, out_features=512, bias=True)\n",
       "         )\n",
       "         (ln_2): LayerNorm((512,), eps=1e-05, elementwise_affine=True)\n",
       "       )\n",
       "       (3): ResidualAttentionBlock(\n",
       "         (attn): MultiheadAttention(\n",
       "           (out_proj): NonDynamicallyQuantizableLinear(in_features=512, out_features=512, bias=True)\n",
       "         )\n",
       "         (ln_1): LayerNorm((512,), eps=1e-05, elementwise_affine=True)\n",
       "         (mlp): Sequential(\n",
       "           (c_fc): Linear(in_features=512, out_features=2048, bias=True)\n",
       "           (gelu): QuickGELU()\n",
       "           (c_proj): Linear(in_features=2048, out_features=512, bias=True)\n",
       "         )\n",
       "         (ln_2): LayerNorm((512,), eps=1e-05, elementwise_affine=True)\n",
       "       )\n",
       "       (4): ResidualAttentionBlock(\n",
       "         (attn): MultiheadAttention(\n",
       "           (out_proj): NonDynamicallyQuantizableLinear(in_features=512, out_features=512, bias=True)\n",
       "         )\n",
       "         (ln_1): LayerNorm((512,), eps=1e-05, elementwise_affine=True)\n",
       "         (mlp): Sequential(\n",
       "           (c_fc): Linear(in_features=512, out_features=2048, bias=True)\n",
       "           (gelu): QuickGELU()\n",
       "           (c_proj): Linear(in_features=2048, out_features=512, bias=True)\n",
       "         )\n",
       "         (ln_2): LayerNorm((512,), eps=1e-05, elementwise_affine=True)\n",
       "       )\n",
       "       (5): ResidualAttentionBlock(\n",
       "         (attn): MultiheadAttention(\n",
       "           (out_proj): NonDynamicallyQuantizableLinear(in_features=512, out_features=512, bias=True)\n",
       "         )\n",
       "         (ln_1): LayerNorm((512,), eps=1e-05, elementwise_affine=True)\n",
       "         (mlp): Sequential(\n",
       "           (c_fc): Linear(in_features=512, out_features=2048, bias=True)\n",
       "           (gelu): QuickGELU()\n",
       "           (c_proj): Linear(in_features=2048, out_features=512, bias=True)\n",
       "         )\n",
       "         (ln_2): LayerNorm((512,), eps=1e-05, elementwise_affine=True)\n",
       "       )\n",
       "       (6): ResidualAttentionBlock(\n",
       "         (attn): MultiheadAttention(\n",
       "           (out_proj): NonDynamicallyQuantizableLinear(in_features=512, out_features=512, bias=True)\n",
       "         )\n",
       "         (ln_1): LayerNorm((512,), eps=1e-05, elementwise_affine=True)\n",
       "         (mlp): Sequential(\n",
       "           (c_fc): Linear(in_features=512, out_features=2048, bias=True)\n",
       "           (gelu): QuickGELU()\n",
       "           (c_proj): Linear(in_features=2048, out_features=512, bias=True)\n",
       "         )\n",
       "         (ln_2): LayerNorm((512,), eps=1e-05, elementwise_affine=True)\n",
       "       )\n",
       "       (7): ResidualAttentionBlock(\n",
       "         (attn): MultiheadAttention(\n",
       "           (out_proj): NonDynamicallyQuantizableLinear(in_features=512, out_features=512, bias=True)\n",
       "         )\n",
       "         (ln_1): LayerNorm((512,), eps=1e-05, elementwise_affine=True)\n",
       "         (mlp): Sequential(\n",
       "           (c_fc): Linear(in_features=512, out_features=2048, bias=True)\n",
       "           (gelu): QuickGELU()\n",
       "           (c_proj): Linear(in_features=2048, out_features=512, bias=True)\n",
       "         )\n",
       "         (ln_2): LayerNorm((512,), eps=1e-05, elementwise_affine=True)\n",
       "       )\n",
       "       (8): ResidualAttentionBlock(\n",
       "         (attn): MultiheadAttention(\n",
       "           (out_proj): NonDynamicallyQuantizableLinear(in_features=512, out_features=512, bias=True)\n",
       "         )\n",
       "         (ln_1): LayerNorm((512,), eps=1e-05, elementwise_affine=True)\n",
       "         (mlp): Sequential(\n",
       "           (c_fc): Linear(in_features=512, out_features=2048, bias=True)\n",
       "           (gelu): QuickGELU()\n",
       "           (c_proj): Linear(in_features=2048, out_features=512, bias=True)\n",
       "         )\n",
       "         (ln_2): LayerNorm((512,), eps=1e-05, elementwise_affine=True)\n",
       "       )\n",
       "       (9): ResidualAttentionBlock(\n",
       "         (attn): MultiheadAttention(\n",
       "           (out_proj): NonDynamicallyQuantizableLinear(in_features=512, out_features=512, bias=True)\n",
       "         )\n",
       "         (ln_1): LayerNorm((512,), eps=1e-05, elementwise_affine=True)\n",
       "         (mlp): Sequential(\n",
       "           (c_fc): Linear(in_features=512, out_features=2048, bias=True)\n",
       "           (gelu): QuickGELU()\n",
       "           (c_proj): Linear(in_features=2048, out_features=512, bias=True)\n",
       "         )\n",
       "         (ln_2): LayerNorm((512,), eps=1e-05, elementwise_affine=True)\n",
       "       )\n",
       "       (10): ResidualAttentionBlock(\n",
       "         (attn): MultiheadAttention(\n",
       "           (out_proj): NonDynamicallyQuantizableLinear(in_features=512, out_features=512, bias=True)\n",
       "         )\n",
       "         (ln_1): LayerNorm((512,), eps=1e-05, elementwise_affine=True)\n",
       "         (mlp): Sequential(\n",
       "           (c_fc): Linear(in_features=512, out_features=2048, bias=True)\n",
       "           (gelu): QuickGELU()\n",
       "           (c_proj): Linear(in_features=2048, out_features=512, bias=True)\n",
       "         )\n",
       "         (ln_2): LayerNorm((512,), eps=1e-05, elementwise_affine=True)\n",
       "       )\n",
       "       (11): ResidualAttentionBlock(\n",
       "         (attn): MultiheadAttention(\n",
       "           (out_proj): NonDynamicallyQuantizableLinear(in_features=512, out_features=512, bias=True)\n",
       "         )\n",
       "         (ln_1): LayerNorm((512,), eps=1e-05, elementwise_affine=True)\n",
       "         (mlp): Sequential(\n",
       "           (c_fc): Linear(in_features=512, out_features=2048, bias=True)\n",
       "           (gelu): QuickGELU()\n",
       "           (c_proj): Linear(in_features=2048, out_features=512, bias=True)\n",
       "         )\n",
       "         (ln_2): LayerNorm((512,), eps=1e-05, elementwise_affine=True)\n",
       "       )\n",
       "     )\n",
       "   )\n",
       "   (token_embedding): Embedding(49408, 512)\n",
       "   (ln_final): LayerNorm((512,), eps=1e-05, elementwise_affine=True)\n",
       " )]"
      ]
     },
     "execution_count": 28,
     "metadata": {},
     "output_type": "execute_result"
    }
   ],
   "source": [
    "pytti.Perceptor.CLIP_PERCEPTORS"
   ]
  },
  {
   "cell_type": "code",
   "execution_count": 29,
   "id": "feeae290-0bb5-4887-92bd-6c6d3e5a204e",
   "metadata": {
    "execution": {
     "iopub.execute_input": "2021-11-27T16:35:54.812739Z",
     "iopub.status.busy": "2021-11-27T16:35:54.812739Z",
     "iopub.status.idle": "2021-11-27T16:35:54.828351Z",
     "shell.execute_reply": "2021-11-27T16:35:54.828351Z",
     "shell.execute_reply.started": "2021-11-27T16:35:54.812739Z"
    }
   },
   "outputs": [],
   "source": [
    "#Perceptor.free_clip()"
   ]
  },
  {
   "cell_type": "code",
   "execution_count": 30,
   "id": "65ff4bb3-764b-4c6b-ae37-01c8953db67d",
   "metadata": {
    "execution": {
     "iopub.execute_input": "2021-11-27T16:35:54.828351Z",
     "iopub.status.busy": "2021-11-27T16:35:54.828351Z",
     "iopub.status.idle": "2021-11-27T16:35:54.875296Z",
     "shell.execute_reply": "2021-11-27T16:35:54.875296Z",
     "shell.execute_reply.started": "2021-11-27T16:35:54.828351Z"
    },
    "tags": []
   },
   "outputs": [],
   "source": [
    "# oh shit... that executed?\n",
    "prompt = \"a painting of an apple\"\n",
    "out = parse_prompt(embedder=emb, prompt_string=prompt)\n",
    " # maybe?"
   ]
  },
  {
   "cell_type": "code",
   "execution_count": 31,
   "id": "e2fb5fc6-1e91-46c1-aca8-183b26c9c6c2",
   "metadata": {
    "execution": {
     "iopub.execute_input": "2021-11-27T16:35:54.875296Z",
     "iopub.status.busy": "2021-11-27T16:35:54.875296Z",
     "iopub.status.idle": "2021-11-27T16:35:54.890917Z",
     "shell.execute_reply": "2021-11-27T16:35:54.890917Z",
     "shell.execute_reply.started": "2021-11-27T16:35:54.875296Z"
    },
    "tags": []
   },
   "outputs": [
    {
     "name": "stdout",
     "output_type": "stream",
     "text": [
      "Automatic pdb calling has been turned ON\n"
     ]
    }
   ],
   "source": [
    "pdb"
   ]
  },
  {
   "cell_type": "code",
   "execution_count": 32,
   "id": "30dc1a46-70db-4dc7-84a1-c22036a79c1e",
   "metadata": {
    "execution": {
     "iopub.execute_input": "2021-11-27T16:35:54.890917Z",
     "iopub.status.busy": "2021-11-27T16:35:54.890917Z",
     "iopub.status.idle": "2021-11-27T16:35:54.969048Z",
     "shell.execute_reply": "2021-11-27T16:35:54.969048Z",
     "shell.execute_reply.started": "2021-11-27T16:35:54.890917Z"
    }
   },
   "outputs": [
    {
     "name": "stdout",
     "output_type": "stream",
     "text": [
      "Sat Nov 27 08:35:54 2021       \n",
      "+-----------------------------------------------------------------------------+\n",
      "| NVIDIA-SMI 510.06       Driver Version: 510.06       CUDA Version: 11.6     |\n",
      "|-------------------------------+----------------------+----------------------+\n",
      "| GPU  Name            TCC/WDDM | Bus-Id        Disp.A | Volatile Uncorr. ECC |\n",
      "| Fan  Temp  Perf  Pwr:Usage/Cap|         Memory-Usage | GPU-Util  Compute M. |\n",
      "|                               |                      |               MIG M. |\n",
      "|===============================+======================+======================|\n",
      "|   0  NVIDIA GeForce ... WDDM  | 00000000:01:00.0 Off |                  N/A |\n",
      "|  0%   28C    P8    13W / 350W |   2146MiB / 24576MiB |      0%      Default |\n",
      "|                               |                      |                  N/A |\n",
      "+-------------------------------+----------------------+----------------------+\n",
      "                                                                               \n",
      "+-----------------------------------------------------------------------------+\n",
      "| Processes:                                                                  |\n",
      "|  GPU   GI   CI        PID   Type   Process name                  GPU Memory |\n",
      "|        ID   ID                                                   Usage      |\n",
      "|=============================================================================|\n",
      "|    0   N/A  N/A      1492    C+G   ...bbwe\\Microsoft.Photos.exe    N/A      |\n",
      "|    0   N/A  N/A      1540    C+G   ...lPanel\\SystemSettings.exe    N/A      |\n",
      "|    0   N/A  N/A      7884    C+G   Insufficient Permissions        N/A      |\n",
      "|    0   N/A  N/A     12880    C+G   ...in7x64\\steamwebhelper.exe    N/A      |\n",
      "|    0   N/A  N/A     13644    C+G   ...ge\\Application\\msedge.exe    N/A      |\n",
      "|    0   N/A  N/A     15264      C   ...3\\envs\\sandbox\\python.exe    N/A      |\n",
      "|    0   N/A  N/A     15704    C+G   ...5n1h2txyewy\\SearchApp.exe    N/A      |\n",
      "|    0   N/A  N/A     16280    C+G   ...nputApp\\TextInputHost.exe    N/A      |\n",
      "|    0   N/A  N/A     17144    C+G   ...ekyb3d8bbwe\\YourPhone.exe    N/A      |\n",
      "|    0   N/A  N/A     17640    C+G   ...lack\\app-4.21.1\\slack.exe    N/A      |\n",
      "|    0   N/A  N/A     18584    C+G   C:\\Windows\\explorer.exe         N/A      |\n",
      "|    0   N/A  N/A     19760    C+G   ...y\\ShellExperienceHost.exe    N/A      |\n",
      "+-----------------------------------------------------------------------------+\n"
     ]
    }
   ],
   "source": [
    "!nvidia-smi"
   ]
  },
  {
   "cell_type": "code",
   "execution_count": 33,
   "id": "2df8f0b5-5865-493e-bb38-ec0072ed0c91",
   "metadata": {
    "execution": {
     "iopub.execute_input": "2021-11-27T16:35:54.969048Z",
     "iopub.status.busy": "2021-11-27T16:35:54.969048Z",
     "iopub.status.idle": "2021-11-27T16:35:54.984666Z",
     "shell.execute_reply": "2021-11-27T16:35:54.984666Z",
     "shell.execute_reply.started": "2021-11-27T16:35:54.969048Z"
    }
   },
   "outputs": [],
   "source": [
    "Perceptor.free_clip()"
   ]
  },
  {
   "cell_type": "code",
   "execution_count": 34,
   "id": "677b1bb0-e9f1-4f1b-a3b9-82b3212fce8c",
   "metadata": {
    "execution": {
     "iopub.execute_input": "2021-11-27T16:35:54.984666Z",
     "iopub.status.busy": "2021-11-27T16:35:54.984666Z",
     "iopub.status.idle": "2021-11-27T16:35:55.000230Z",
     "shell.execute_reply": "2021-11-27T16:35:55.000230Z",
     "shell.execute_reply.started": "2021-11-27T16:35:54.984666Z"
    }
   },
   "outputs": [],
   "source": [
    "pytti.Perceptor.CLIP_PERCEPTORS"
   ]
  },
  {
   "cell_type": "code",
   "execution_count": 35,
   "id": "40b1580c-e6a1-4282-959f-c33ea57bec67",
   "metadata": {
    "execution": {
     "iopub.execute_input": "2021-11-27T16:35:55.000230Z",
     "iopub.status.busy": "2021-11-27T16:35:55.000230Z",
     "iopub.status.idle": "2021-11-27T16:35:55.109671Z",
     "shell.execute_reply": "2021-11-27T16:35:55.109671Z",
     "shell.execute_reply.started": "2021-11-27T16:35:55.000230Z"
    }
   },
   "outputs": [
    {
     "name": "stdout",
     "output_type": "stream",
     "text": [
      "Sat Nov 27 08:35:55 2021       \n",
      "+-----------------------------------------------------------------------------+\n",
      "| NVIDIA-SMI 510.06       Driver Version: 510.06       CUDA Version: 11.6     |\n",
      "|-------------------------------+----------------------+----------------------+\n",
      "| GPU  Name            TCC/WDDM | Bus-Id        Disp.A | Volatile Uncorr. ECC |\n",
      "| Fan  Temp  Perf  Pwr:Usage/Cap|         Memory-Usage | GPU-Util  Compute M. |\n",
      "|                               |                      |               MIG M. |\n",
      "|===============================+======================+======================|\n",
      "|   0  NVIDIA GeForce ... WDDM  | 00000000:01:00.0 Off |                  N/A |\n",
      "|  0%   28C    P8    13W / 350W |   2146MiB / 24576MiB |     10%      Default |\n",
      "|                               |                      |                  N/A |\n",
      "+-------------------------------+----------------------+----------------------+\n",
      "                                                                               \n",
      "+-----------------------------------------------------------------------------+\n",
      "| Processes:                                                                  |\n",
      "|  GPU   GI   CI        PID   Type   Process name                  GPU Memory |\n",
      "|        ID   ID                                                   Usage      |\n",
      "|=============================================================================|\n",
      "|    0   N/A  N/A      1492    C+G   ...bbwe\\Microsoft.Photos.exe    N/A      |\n",
      "|    0   N/A  N/A      1540    C+G   ...lPanel\\SystemSettings.exe    N/A      |\n",
      "|    0   N/A  N/A      7884    C+G   Insufficient Permissions        N/A      |\n",
      "|    0   N/A  N/A     12880    C+G   ...in7x64\\steamwebhelper.exe    N/A      |\n",
      "|    0   N/A  N/A     13644    C+G   ...ge\\Application\\msedge.exe    N/A      |\n",
      "|    0   N/A  N/A     15264      C   ...3\\envs\\sandbox\\python.exe    N/A      |\n",
      "|    0   N/A  N/A     15704    C+G   ...5n1h2txyewy\\SearchApp.exe    N/A      |\n",
      "|    0   N/A  N/A     16280    C+G   ...nputApp\\TextInputHost.exe    N/A      |\n",
      "|    0   N/A  N/A     17144    C+G   ...ekyb3d8bbwe\\YourPhone.exe    N/A      |\n",
      "|    0   N/A  N/A     17640    C+G   ...lack\\app-4.21.1\\slack.exe    N/A      |\n",
      "|    0   N/A  N/A     18584    C+G   C:\\Windows\\explorer.exe         N/A      |\n",
      "|    0   N/A  N/A     19760    C+G   ...y\\ShellExperienceHost.exe    N/A      |\n",
      "+-----------------------------------------------------------------------------+\n"
     ]
    }
   ],
   "source": [
    "!nvidia-smi"
   ]
  },
  {
   "cell_type": "code",
   "execution_count": 36,
   "id": "862b3116-52d2-442f-912b-d679259ca510",
   "metadata": {
    "execution": {
     "iopub.execute_input": "2021-11-27T16:35:55.109671Z",
     "iopub.status.busy": "2021-11-27T16:35:55.109671Z",
     "iopub.status.idle": "2021-11-27T16:35:55.125230Z",
     "shell.execute_reply": "2021-11-27T16:35:55.125230Z",
     "shell.execute_reply.started": "2021-11-27T16:35:55.109671Z"
    },
    "tags": []
   },
   "outputs": [
    {
     "data": {
      "text/plain": [
       "pytti.Perceptor.Prompt.Prompt"
      ]
     },
     "execution_count": 36,
     "metadata": {},
     "output_type": "execute_result"
    }
   ],
   "source": [
    "type(out)"
   ]
  },
  {
   "cell_type": "code",
   "execution_count": 37,
   "id": "b5afdf90-57dc-43e0-bc9c-f451b38948dc",
   "metadata": {
    "execution": {
     "iopub.execute_input": "2021-11-27T16:35:55.125230Z",
     "iopub.status.busy": "2021-11-27T16:35:55.125230Z",
     "iopub.status.idle": "2021-11-27T16:35:55.140957Z",
     "shell.execute_reply": "2021-11-27T16:35:55.140835Z",
     "shell.execute_reply.started": "2021-11-27T16:35:55.125230Z"
    },
    "tags": []
   },
   "outputs": [],
   "source": [
    "#guide.run_steps(\n",
    "#    n_steps=100,\n",
    "#    #prompts=out, # prompt object is not iterable\n",
    "#    prompts=[out],\n",
    "#    # uh....\n",
    "#    interp_prompts=None, # interpolation?\n",
    "#    loss_augs=None # this can't be None\n",
    "#)\n",
    "# run_steps(\n",
    "#  n_steps, prompts, interp_prompts, loss_augs, \n",
    "#  stop=-inf, interp_steps=0, i_offset=0, skipped_steps=0)\n",
    "\n",
    "# guessing this is gonna break, but let's see what happens\n",
    "# oh neat, it killed CUDA. That's probably why the mechanisms for releasing models are there\n",
    "# Try releasing CLIP (and only loading one VQGAN model)"
   ]
  },
  {
   "cell_type": "code",
   "execution_count": 43,
   "id": "7dcdbb07-3caf-45e9-8483-2a3521f5c26a",
   "metadata": {
    "execution": {
     "iopub.execute_input": "2021-11-27T17:20:35.123842Z",
     "iopub.status.busy": "2021-11-27T17:20:35.123842Z",
     "iopub.status.idle": "2021-11-27T17:20:35.149429Z",
     "shell.execute_reply": "2021-11-27T17:20:35.149429Z",
     "shell.execute_reply.started": "2021-11-27T17:20:35.123842Z"
    },
    "tags": []
   },
   "outputs": [],
   "source": [
    "#mse_loss = MSELoss()\n",
    "# comp dimensions should map to image shape\n",
    "# guessing this is lifted/inspired by dribnet/pixray's loss interface\n",
    "# https://github.com/dribnet/pixray\n",
    "\n",
    "# Let's try a loss function that doesn't have the 'comp' argument...\n",
    "from pytti.LossAug import TVLoss\n",
    "loss_augs = [TVLoss()]"
   ]
  },
  {
   "cell_type": "code",
   "execution_count": 44,
   "id": "36f29d42-346a-4663-9d0e-5c203b18e066",
   "metadata": {
    "execution": {
     "iopub.execute_input": "2021-11-27T17:20:41.537857Z",
     "iopub.status.busy": "2021-11-27T17:20:41.537857Z",
     "iopub.status.idle": "2021-11-27T17:21:02.850211Z",
     "shell.execute_reply": "2021-11-27T17:21:02.850211Z",
     "shell.execute_reply.started": "2021-11-27T17:20:41.537857Z"
    },
    "tags": []
   },
   "outputs": [
    {
     "data": {
      "application/vnd.jupyter.widget-view+json": {
       "model_id": "4085b0acf35f47bf9c4f0e2250b79e5b",
       "version_major": 2,
       "version_minor": 0
      },
      "text/plain": [
       "  0%|          | 0/100 [00:00<?, ?it/s]"
      ]
     },
     "metadata": {},
     "output_type": "display_data"
    },
    {
     "data": {
      "text/plain": [
       "100"
      ]
     },
     "execution_count": 44,
     "metadata": {},
     "output_type": "execute_result"
    }
   ],
   "source": [
    "from pytti.LossAug import MSELoss\n",
    "#loss_augs = [MSELoss]\n",
    "# pretty sure this needs to be an instance rather than a type.\n",
    "# Loss has required init parameters...hmmm....\n",
    "# time to get hacky!\n",
    "\n",
    "\n",
    "guide.run_steps(\n",
    "    n_steps=100,\n",
    "    #prompts=out, # prompt object is not iterable\n",
    "    prompts=[out],\n",
    "    # uh....\n",
    "    interp_prompts=None, # interpolation?\n",
    "    loss_augs=loss_augs #None # this can't be None\n",
    ")\n",
    "\n",
    "# Getting that \"can't find import infer from Inference\" thing\n",
    "# AdaBins, right? Should probably just install AdaBins.\n",
    "\n",
    "# blocking import of DepthLoss in:\n",
    "# * pytti.LossAug.__init__\n",
    "# * pytti.Transforms\n",
    "\n",
    "# blocking from inference import infer - unused!\n",
    "# * pytti.Transforms \n",
    "\n",
    "# Blocking import of apply_flow -  pytti.Transforms import apply_flow\n",
    "# * pytti.LossAug.OpticalFlowLoss\n",
    "# * \n",
    "\n",
    "##########\n",
    "# format_input throwing errors\n",
    "# * source - VQGANImage - possibly correct\n",
    "# * dest - MSELoss - definitely not correct. should prob be prompt?\n",
    "\n",
    "# * differentiable image has output_axes\n",
    "# Prompt has input_axes\n",
    "# Loss has input_axes\n",
    "\n",
    "# OH SHIT IT\"S RUNNING!!!!!"
   ]
  },
  {
   "cell_type": "code",
   "execution_count": 45,
   "id": "579134da-63cc-41e8-8f9e-1b61dde4cde1",
   "metadata": {
    "execution": {
     "iopub.execute_input": "2021-11-27T17:27:27.534624Z",
     "iopub.status.busy": "2021-11-27T17:27:27.534624Z",
     "iopub.status.idle": "2021-11-27T17:27:27.655129Z",
     "shell.execute_reply": "2021-11-27T17:27:27.652288Z",
     "shell.execute_reply.started": "2021-11-27T17:27:27.534624Z"
    },
    "tags": []
   },
   "outputs": [
    {
     "name": "stdout",
     "output_type": "stream",
     "text": [
      "Sat Nov 27 09:27:27 2021       \n",
      "+-----------------------------------------------------------------------------+\n",
      "| NVIDIA-SMI 510.06       Driver Version: 510.06       CUDA Version: 11.6     |\n",
      "|-------------------------------+----------------------+----------------------+\n",
      "| GPU  Name            TCC/WDDM | Bus-Id        Disp.A | Volatile Uncorr. ECC |\n",
      "| Fan  Temp  Perf  Pwr:Usage/Cap|         Memory-Usage | GPU-Util  Compute M. |\n",
      "|                               |                      |               MIG M. |\n",
      "|===============================+======================+======================|\n",
      "|   0  NVIDIA GeForce ... WDDM  | 00000000:01:00.0 Off |                  N/A |\n",
      "|  0%   30C    P8     7W / 350W |  14388MiB / 24576MiB |      0%      Default |\n",
      "|                               |                      |                  N/A |\n",
      "+-------------------------------+----------------------+----------------------+\n",
      "                                                                               \n",
      "+-----------------------------------------------------------------------------+\n",
      "| Processes:                                                                  |\n",
      "|  GPU   GI   CI        PID   Type   Process name                  GPU Memory |\n",
      "|        ID   ID                                                   Usage      |\n",
      "|=============================================================================|\n",
      "|    0   N/A  N/A      1492    C+G   ...bbwe\\Microsoft.Photos.exe    N/A      |\n",
      "|    0   N/A  N/A      1540    C+G   ...lPanel\\SystemSettings.exe    N/A      |\n",
      "|    0   N/A  N/A      7884    C+G   Insufficient Permissions        N/A      |\n",
      "|    0   N/A  N/A     12880    C+G   ...in7x64\\steamwebhelper.exe    N/A      |\n",
      "|    0   N/A  N/A     13644    C+G   ...ge\\Application\\msedge.exe    N/A      |\n",
      "|    0   N/A  N/A     15264      C   ...3\\envs\\sandbox\\python.exe    N/A      |\n",
      "|    0   N/A  N/A     15704    C+G   ...5n1h2txyewy\\SearchApp.exe    N/A      |\n",
      "|    0   N/A  N/A     16280    C+G   ...nputApp\\TextInputHost.exe    N/A      |\n",
      "|    0   N/A  N/A     17144    C+G   ...ekyb3d8bbwe\\YourPhone.exe    N/A      |\n",
      "|    0   N/A  N/A     17640    C+G   ...lack\\app-4.21.1\\slack.exe    N/A      |\n",
      "|    0   N/A  N/A     18584    C+G   C:\\Windows\\explorer.exe         N/A      |\n",
      "|    0   N/A  N/A     19760    C+G   ...y\\ShellExperienceHost.exe    N/A      |\n",
      "+-----------------------------------------------------------------------------+\n"
     ]
    }
   ],
   "source": [
    "!nvidia-smi"
   ]
  },
  {
   "cell_type": "code",
   "execution_count": 46,
   "id": "3126dbe5-bb2a-4dce-af94-62f6691a4169",
   "metadata": {
    "execution": {
     "iopub.execute_input": "2021-11-27T17:27:33.025677Z",
     "iopub.status.busy": "2021-11-27T17:27:33.025677Z",
     "iopub.status.idle": "2021-11-27T17:27:33.119364Z",
     "shell.execute_reply": "2021-11-27T17:27:33.119364Z",
     "shell.execute_reply.started": "2021-11-27T17:27:33.025677Z"
    },
    "tags": []
   },
   "outputs": [],
   "source": [
    "import torch\n",
    "torch.cuda.empty_cache()"
   ]
  },
  {
   "cell_type": "code",
   "execution_count": 47,
   "id": "49d3fbbd-0dff-470d-9670-f4c0b5b1726c",
   "metadata": {
    "execution": {
     "iopub.execute_input": "2021-11-27T17:27:35.031855Z",
     "iopub.status.busy": "2021-11-27T17:27:35.031855Z",
     "iopub.status.idle": "2021-11-27T17:27:35.119364Z",
     "shell.execute_reply": "2021-11-27T17:27:35.119364Z",
     "shell.execute_reply.started": "2021-11-27T17:27:35.031855Z"
    },
    "tags": []
   },
   "outputs": [
    {
     "name": "stdout",
     "output_type": "stream",
     "text": [
      "Sat Nov 27 09:27:35 2021       \n",
      "+-----------------------------------------------------------------------------+\n",
      "| NVIDIA-SMI 510.06       Driver Version: 510.06       CUDA Version: 11.6     |\n",
      "|-------------------------------+----------------------+----------------------+\n",
      "| GPU  Name            TCC/WDDM | Bus-Id        Disp.A | Volatile Uncorr. ECC |\n",
      "| Fan  Temp  Perf  Pwr:Usage/Cap|         Memory-Usage | GPU-Util  Compute M. |\n",
      "|                               |                      |               MIG M. |\n",
      "|===============================+======================+======================|\n",
      "|   0  NVIDIA GeForce ... WDDM  | 00000000:01:00.0 Off |                  N/A |\n",
      "|  0%   31C    P8     7W / 350W |   7834MiB / 24576MiB |      0%      Default |\n",
      "|                               |                      |                  N/A |\n",
      "+-------------------------------+----------------------+----------------------+\n",
      "                                                                               \n",
      "+-----------------------------------------------------------------------------+\n",
      "| Processes:                                                                  |\n",
      "|  GPU   GI   CI        PID   Type   Process name                  GPU Memory |\n",
      "|        ID   ID                                                   Usage      |\n",
      "|=============================================================================|\n",
      "|    0   N/A  N/A      1492    C+G   ...bbwe\\Microsoft.Photos.exe    N/A      |\n",
      "|    0   N/A  N/A      1540    C+G   ...lPanel\\SystemSettings.exe    N/A      |\n",
      "|    0   N/A  N/A      7884    C+G   Insufficient Permissions        N/A      |\n",
      "|    0   N/A  N/A     12880    C+G   ...in7x64\\steamwebhelper.exe    N/A      |\n",
      "|    0   N/A  N/A     13644    C+G   ...ge\\Application\\msedge.exe    N/A      |\n",
      "|    0   N/A  N/A     15264      C   ...3\\envs\\sandbox\\python.exe    N/A      |\n",
      "|    0   N/A  N/A     15704    C+G   ...5n1h2txyewy\\SearchApp.exe    N/A      |\n",
      "|    0   N/A  N/A     16280    C+G   ...nputApp\\TextInputHost.exe    N/A      |\n",
      "|    0   N/A  N/A     17144    C+G   ...ekyb3d8bbwe\\YourPhone.exe    N/A      |\n",
      "|    0   N/A  N/A     17640    C+G   ...lack\\app-4.21.1\\slack.exe    N/A      |\n",
      "|    0   N/A  N/A     18584    C+G   C:\\Windows\\explorer.exe         N/A      |\n",
      "|    0   N/A  N/A     19760    C+G   ...y\\ShellExperienceHost.exe    N/A      |\n",
      "+-----------------------------------------------------------------------------+\n"
     ]
    }
   ],
   "source": [
    "!nvidia-smi"
   ]
  },
  {
   "cell_type": "code",
   "execution_count": 51,
   "id": "6e52e8c3-c730-4cff-a7e3-4352596545ae",
   "metadata": {
    "execution": {
     "iopub.execute_input": "2021-11-27T17:29:59.044327Z",
     "iopub.status.busy": "2021-11-27T17:29:59.044327Z",
     "iopub.status.idle": "2021-11-27T17:29:59.186020Z",
     "shell.execute_reply": "2021-11-27T17:29:59.186020Z",
     "shell.execute_reply.started": "2021-11-27T17:29:59.044327Z"
    },
    "tags": []
   },
   "outputs": [
    {
     "data": {
      "text/plain": [
       "True"
      ]
     },
     "execution_count": 51,
     "metadata": {},
     "output_type": "execute_result"
    },
    {
     "data": {
      "image/png": "[encoded data removed]",
      "text/plain": [
       "<Figure size 432x288 with 1 Axes>"
      ]
     },
     "metadata": {
      "needs_background": "light"
     },
     "output_type": "display_data"
    }
   ],
   "source": [
    "import matplotlib.pyplot as plt\n",
    "\n",
    "fig, ax = plt.subplots()\n",
    "guide.plot_losses([ax])\n",
    "# neat"
   ]
  }
 ],
 "metadata": {
  "kernelspec": {
   "display_name": "Python 3 (ipykernel)",
   "language": "python",
   "name": "python3"
  },
  "language_info": {
   "codemirror_mode": {
    "name": "ipython",
    "version": 3
   },
   "file_extension": ".py",
   "mimetype": "text/x-python",
   "name": "python",
   "nbconvert_exporter": "python",
   "pygments_lexer": "ipython3",
   "version": "3.9.7"
  },
  "widgets": {
   "application/vnd.jupyter.widget-state+json": {
    "state": {
     "12eb5de9930547718fc17fabd81d9cba": {
      "model_module": "@jupyter-widgets/controls",
      "model_module_version": "1.5.0",
      "model_name": "FloatProgressModel",
      "state": {
       "bar_style": "success",
       "layout": "IPY_MODEL_f4fb0521bfe84266838bde2f6a9ccf80",
       "style": "IPY_MODEL_e0a319bd40584c34b7a78a9e82370a58",
       "value": 100
      }
     },
     "3290b4e197c1448f8193ee97887a8455": {
      "model_module": "@jupyter-widgets/controls",
      "model_module_version": "1.5.0",
      "model_name": "HTMLModel",
      "state": {
       "layout": "IPY_MODEL_ace33baf47cf43349e0eac07879b669d",
       "style": "IPY_MODEL_e18651532c0742a4b655756fb6f31e23",
       "value": " 0/100 [00:02&lt;?, ?it/s]"
      }
     },
     "4085b0acf35f47bf9c4f0e2250b79e5b": {
      "model_module": "@jupyter-widgets/controls",
      "model_module_version": "1.5.0",
      "model_name": "HBoxModel",
      "state": {
       "children": [
        "IPY_MODEL_6347fdbf8ac948098958082d31178f69",
        "IPY_MODEL_12eb5de9930547718fc17fabd81d9cba",
        "IPY_MODEL_8e097c3d5710465eb577b47360dcea86"
       ],
       "layout": "IPY_MODEL_b78cf7b03c8f4d7eb90239251553a422"
      }
     },
     "41c82ef41f6147238a4640383cc1745e": {
      "model_module": "@jupyter-widgets/controls",
      "model_module_version": "1.5.0",
      "model_name": "HBoxModel",
      "state": {
       "children": [
        "IPY_MODEL_8c1d977ae789435c90c9a2a233ab5f0e",
        "IPY_MODEL_694e3359a89e4da781f0dae2f23a724e",
        "IPY_MODEL_3290b4e197c1448f8193ee97887a8455"
       ],
       "layout": "IPY_MODEL_6f163ea9292a4871bfda5be54dec5410"
      }
     },
     "4564b55c362c4410b1ee4e5dc98a7418": {
      "model_module": "@jupyter-widgets/controls",
      "model_module_version": "1.5.0",
      "model_name": "DescriptionStyleModel",
      "state": {
       "description_width": ""
      }
     },
     "54c7827e5d7c4acfba62cde3a6c33747": {
      "model_module": "@jupyter-widgets/base",
      "model_module_version": "1.2.0",
      "model_name": "LayoutModel",
      "state": {}
     },
     "6347fdbf8ac948098958082d31178f69": {
      "model_module": "@jupyter-widgets/controls",
      "model_module_version": "1.5.0",
      "model_name": "HTMLModel",
      "state": {
       "layout": "IPY_MODEL_66994fb2053a4278b2274875078e13f3",
       "style": "IPY_MODEL_f150c6d3b05345c1bb768eada6e4fb49",
       "value": "100%"
      }
     },
     "66994fb2053a4278b2274875078e13f3": {
      "model_module": "@jupyter-widgets/base",
      "model_module_version": "1.2.0",
      "model_name": "LayoutModel",
      "state": {}
     },
     "67ddb208a907469d8bb5eb720809f556": {
      "model_module": "@jupyter-widgets/controls",
      "model_module_version": "1.5.0",
      "model_name": "ProgressStyleModel",
      "state": {
       "description_width": ""
      }
     },
     "694e3359a89e4da781f0dae2f23a724e": {
      "model_module": "@jupyter-widgets/controls",
      "model_module_version": "1.5.0",
      "model_name": "FloatProgressModel",
      "state": {
       "bar_style": "danger",
       "layout": "IPY_MODEL_54c7827e5d7c4acfba62cde3a6c33747",
       "style": "IPY_MODEL_67ddb208a907469d8bb5eb720809f556"
      }
     },
     "6f163ea9292a4871bfda5be54dec5410": {
      "model_module": "@jupyter-widgets/base",
      "model_module_version": "1.2.0",
      "model_name": "LayoutModel",
      "state": {}
     },
     "885c56765e7b482d9e7030e08cdfd145": {
      "model_module": "@jupyter-widgets/base",
      "model_module_version": "1.2.0",
      "model_name": "LayoutModel",
      "state": {}
     },
     "8c1d977ae789435c90c9a2a233ab5f0e": {
      "model_module": "@jupyter-widgets/controls",
      "model_module_version": "1.5.0",
      "model_name": "HTMLModel",
      "state": {
       "layout": "IPY_MODEL_885c56765e7b482d9e7030e08cdfd145",
       "style": "IPY_MODEL_4564b55c362c4410b1ee4e5dc98a7418",
       "value": "  0%"
      }
     },
     "8e097c3d5710465eb577b47360dcea86": {
      "model_module": "@jupyter-widgets/controls",
      "model_module_version": "1.5.0",
      "model_name": "HTMLModel",
      "state": {
       "layout": "IPY_MODEL_eeb49a5271e946c895402f89ca90a13e",
       "style": "IPY_MODEL_fb2b13eb65b74a0f9666e53dc5390091",
       "value": " 100/100 [00:21&lt;00:00,  4.85it/s]"
      }
     },
     "ace33baf47cf43349e0eac07879b669d": {
      "model_module": "@jupyter-widgets/base",
      "model_module_version": "1.2.0",
      "model_name": "LayoutModel",
      "state": {}
     },
     "b78cf7b03c8f4d7eb90239251553a422": {
      "model_module": "@jupyter-widgets/base",
      "model_module_version": "1.2.0",
      "model_name": "LayoutModel",
      "state": {}
     },
     "e0a319bd40584c34b7a78a9e82370a58": {
      "model_module": "@jupyter-widgets/controls",
      "model_module_version": "1.5.0",
      "model_name": "ProgressStyleModel",
      "state": {
       "description_width": ""
      }
     },
     "e18651532c0742a4b655756fb6f31e23": {
      "model_module": "@jupyter-widgets/controls",
      "model_module_version": "1.5.0",
      "model_name": "DescriptionStyleModel",
      "state": {
       "description_width": ""
      }
     },
     "eeb49a5271e946c895402f89ca90a13e": {
      "model_module": "@jupyter-widgets/base",
      "model_module_version": "1.2.0",
      "model_name": "LayoutModel",
      "state": {}
     },
     "f150c6d3b05345c1bb768eada6e4fb49": {
      "model_module": "@jupyter-widgets/controls",
      "model_module_version": "1.5.0",
      "model_name": "DescriptionStyleModel",
      "state": {
       "description_width": ""
      }
     },
     "f4fb0521bfe84266838bde2f6a9ccf80": {
      "model_module": "@jupyter-widgets/base",
      "model_module_version": "1.2.0",
      "model_name": "LayoutModel",
      "state": {}
     },
     "fb2b13eb65b74a0f9666e53dc5390091": {
      "model_module": "@jupyter-widgets/controls",
      "model_module_version": "1.5.0",
      "model_name": "DescriptionStyleModel",
      "state": {
       "description_width": ""
      }
     }
    },
    "version_major": 2,
    "version_minor": 0
   }
  }
 },
 "nbformat": 4,
 "nbformat_minor": 5
}
