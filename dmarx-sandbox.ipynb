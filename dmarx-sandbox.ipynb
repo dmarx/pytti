{
 "cells": [
  {
   "cell_type": "code",
   "execution_count": 1,
   "id": "7912e63c-21e1-4cda-ba8c-c8f262fda791",
   "metadata": {
    "execution": {
     "iopub.execute_input": "2021-11-26T18:27:14.979613Z",
     "iopub.status.busy": "2021-11-26T18:27:14.978613Z",
     "iopub.status.idle": "2021-11-26T18:27:15.034934Z",
     "shell.execute_reply": "2021-11-26T18:27:15.034934Z",
     "shell.execute_reply.started": "2021-11-26T18:27:14.978613Z"
    },
    "tags": []
   },
   "outputs": [
    {
     "name": "stdout",
     "output_type": "stream",
     "text": [
      "  main\n",
      "  p4\n",
      "* p5\n",
      "  pyttithree\n"
     ]
    }
   ],
   "source": [
    "!git branch"
   ]
  },
  {
   "cell_type": "code",
   "execution_count": 9,
   "id": "34dcde95-3b1b-44f9-806a-73d37ea1f3aa",
   "metadata": {
    "execution": {
     "iopub.execute_input": "2021-11-26T18:28:28.805237Z",
     "iopub.status.busy": "2021-11-26T18:28:28.804237Z",
     "iopub.status.idle": "2021-11-26T18:28:28.840444Z",
     "shell.execute_reply": "2021-11-26T18:28:28.838431Z",
     "shell.execute_reply.started": "2021-11-26T18:28:28.805237Z"
    },
    "tags": []
   },
   "outputs": [
    {
     "name": "stdout",
     "output_type": "stream",
     "text": [
      " Volume in drive C has no label.\n",
      " Volume Serial Number is C4AF-8993\n",
      "\n",
      " Directory of C:\\Users\\shagg\\proj\\pytti\n",
      "\n",
      "11/26/2021  10:27 AM    <DIR>          .\n",
      "11/26/2021  10:27 AM    <DIR>          ..\n",
      "11/26/2021  08:08 AM             1,983 .gitignore\n",
      "11/26/2021  10:27 AM    <DIR>          .ipynb_checkpoints\n",
      "11/26/2021  09:12 AM    <DIR>          CLIP\n",
      "11/26/2021  10:26 AM                72 dmarx-sandbox.ipynb\n",
      "11/26/2021  08:12 AM    <DIR>          GMA\n",
      "11/26/2021  08:24 AM    <DIR>          Image\n",
      "11/26/2021  08:24 AM             6,196 ImageGuide.py\n",
      "11/26/2021  08:08 AM             1,093 LICENSE\n",
      "11/26/2021  08:24 AM    <DIR>          LossAug\n",
      "11/26/2021  08:24 AM             6,980 Notebook.py\n",
      "11/26/2021  08:24 AM    <DIR>          Perceptor\n",
      "11/26/2021  08:08 AM                31 README.md\n",
      "11/26/2021  08:24 AM             8,061 Transforms.py\n",
      "11/26/2021  08:24 AM             8,291 __init__.py\n",
      "               8 File(s)         32,707 bytes\n",
      "               8 Dir(s)  91,018,207,232 bytes free\n"
     ]
    }
   ],
   "source": [
    "!dir"
   ]
  },
  {
   "cell_type": "code",
   "execution_count": null,
   "id": "5917f445-8e08-4a07-828f-391e4731e89a",
   "metadata": {},
   "outputs": [],
   "source": []
  }
 ],
 "metadata": {
  "kernelspec": {
   "display_name": "Python 3 (ipykernel)",
   "language": "python",
   "name": "python3"
  },
  "language_info": {
   "codemirror_mode": {
    "name": "ipython",
    "version": 3
   },
   "file_extension": ".py",
   "mimetype": "text/x-python",
   "name": "python",
   "nbconvert_exporter": "python",
   "pygments_lexer": "ipython3",
   "version": "3.9.7"
  },
  "widgets": {
   "application/vnd.jupyter.widget-state+json": {
    "state": {},
    "version_major": 2,
    "version_minor": 0
   }
  }
 },
 "nbformat": 4,
 "nbformat_minor": 5
}
